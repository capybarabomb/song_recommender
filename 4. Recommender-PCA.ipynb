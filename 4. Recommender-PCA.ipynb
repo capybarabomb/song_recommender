{
 "cells": [
  {
   "cell_type": "markdown",
   "metadata": {
    "id": "fnhh4ayEOKz4"
   },
   "source": [
    "## Loading credentials from another config file"
   ]
  },
  {
   "cell_type": "code",
   "execution_count": 1,
   "metadata": {
    "ExecuteTime": {
     "end_time": "2022-11-23T08:53:19.773334Z",
     "start_time": "2022-11-23T08:53:19.511876Z"
    },
    "colab": {
     "base_uri": "https://localhost:8080/"
    },
    "executionInfo": {
     "elapsed": 23559,
     "status": "ok",
     "timestamp": 1623745938174,
     "user": {
      "displayName": "Ignacio Soteras",
      "photoUrl": "",
      "userId": "02050793736257155229"
     },
     "user_tz": -120
    },
    "id": "5j1kqPOoN_I5",
    "outputId": "23c4b5dd-b94b-425d-e2b9-e5647cb055df"
   },
   "outputs": [],
   "source": [
    "import config\n",
    "import pandas as pd\n",
    "import requests\n",
    "import spotipy\n",
    "import pickle\n",
    "from sklearn.preprocessing import StandardScaler\n",
    "import json\n",
    "from IPython.display import IFrame"
   ]
  },
  {
   "cell_type": "markdown",
   "metadata": {
    "id": "0fpGWmsCOSx0"
   },
   "source": [
    "## Initializing Spotify API"
   ]
  },
  {
   "cell_type": "code",
   "execution_count": 2,
   "metadata": {
    "ExecuteTime": {
     "end_time": "2022-11-23T08:53:27.060562Z",
     "start_time": "2022-11-23T08:53:26.974725Z"
    },
    "colab": {
     "base_uri": "https://localhost:8080/"
    },
    "executionInfo": {
     "elapsed": 313,
     "status": "ok",
     "timestamp": 1623747121467,
     "user": {
      "displayName": "Ignacio Soteras",
      "photoUrl": "",
      "userId": "02050793736257155229"
     },
     "user_tz": -120
    },
    "id": "-0qiqFTZqqE2",
    "outputId": "c532baae-8ff5-4abc-b70e-0bda934d25b1",
    "scrolled": false
   },
   "outputs": [],
   "source": [
    "from spotipy.oauth2 import SpotifyClientCredentials\n",
    "\n",
    "\n",
    "#Initialize SpotiPy with user credentias\n",
    "sp = spotipy.Spotify(auth_manager=SpotifyClientCredentials(client_id= config.client_id,\n",
    "                                                           client_secret= config.client_secret))"
   ]
  },
  {
   "cell_type": "markdown",
   "metadata": {},
   "source": [
    "## Loading the clustered data frame and the respective model"
   ]
  },
  {
   "cell_type": "code",
   "execution_count": 3,
   "metadata": {},
   "outputs": [],
   "source": [
    "#Loading the clustered data frame and the respective model\n",
    "\n",
    "clustered_df = pd.read_csv('test_PCA2.csv')\n",
    "\n",
    "with open(\"test_PCA2.pkl\", \"rb\") as f:\n",
    "    scaler, kmeans, pca = pickle.load(f)\n"
   ]
  },
  {
   "cell_type": "code",
   "execution_count": 4,
   "metadata": {},
   "outputs": [
    {
     "data": {
      "text/plain": [
       "8"
      ]
     },
     "execution_count": 4,
     "metadata": {},
     "output_type": "execute_result"
    }
   ],
   "source": [
    "len(clustered_df['cluster'].unique())"
   ]
  },
  {
   "cell_type": "code",
   "execution_count": 5,
   "metadata": {},
   "outputs": [
    {
     "data": {
      "text/plain": [
       "49964.552951687205"
      ]
     },
     "execution_count": 5,
     "metadata": {},
     "output_type": "execute_result"
    }
   ],
   "source": [
    "kmeans.inertia_"
   ]
  },
  {
   "cell_type": "markdown",
   "metadata": {},
   "source": [
    "## defining functions"
   ]
  },
  {
   "cell_type": "code",
   "execution_count": 6,
   "metadata": {},
   "outputs": [],
   "source": [
    "def play(track_id):\n",
    "    return IFrame(src=\"https://open.spotify.com/embed/track/\"+track_id,\n",
    "       width=\"320\",\n",
    "       height=\"80\",\n",
    "       frameborder=\"0\",\n",
    "       allowtransparency=\"true\",\n",
    "       allow=\"encrypted-media\",\n",
    "      )"
   ]
  },
  {
   "cell_type": "code",
   "execution_count": 7,
   "metadata": {},
   "outputs": [],
   "source": [
    "def search():\n",
    "    # Get user input for song name\n",
    "    song_name = input(\"Enter the name of a song: \")\n",
    "\n",
    "    # Use the Spotify search API to find songs matching the user input\n",
    "    results = sp.search(q=song_name, type='track')\n",
    "\n",
    "    # Display the top matching songs to the user\n",
    "    for i, track in enumerate(results['tracks']['items'][:10]):\n",
    "        print(f\"{i+1}. {track['name']} by {track['artists'][0]['name']}\")\n",
    "\n",
    "    # Ask the user to select the song they meant from the list\n",
    "    selected_song = None\n",
    "    while not selected_song:\n",
    "        selection = input(\"Please select the song you meant by number (or type 'exit' to cancel): \")\n",
    "        if selection == 'exit':\n",
    "            return\n",
    "        try:\n",
    "            selected_song = results['tracks']['items'][int(selection)-1]\n",
    "        except:\n",
    "            print(\"Invalid selection, please try again.\")\n",
    "\n",
    "    # Get the track ID of the selected song\n",
    "    track_id = selected_song['id']\n",
    "\n",
    "    # Display the selected song using an embedded player\n",
    "    print(f\"Now playing: {selected_song['name']} by {selected_song['artists'][0]['name']}\")\n",
    "    display(play(track_id))\n",
    "\n",
    "    return(track_id)"
   ]
  },
  {
   "cell_type": "raw",
   "metadata": {},
   "source": [
    "def recommend(track_id):\n",
    "    # Use the Spotify API to get the audio features for the selected song\n",
    "    audio_features = sp.audio_features(track_id)[0]\n",
    "\n",
    "    # Scale the audio features using the same scaler used to fit the KMeans model\n",
    "    X = pd.DataFrame(audio_features, index=[0], columns=clustered_df.drop(columns=['id', 'cluster']).columns.tolist())\n",
    "    X_scaled = scaler.transform(X)\n",
    "\n",
    "    # Use the KMeans model to predict the cluster for the selected song\n",
    "    cluster = kmeans.predict(X_scaled)[0]\n",
    "\n",
    "    # Filter for songs in the same cluster as the selected song\n",
    "    recommended_songs = clustered_df[clustered_df['cluster'] == cluster]\n",
    "\n",
    "    # Recommend a random song from the list of songs in the same cluster as the selected song\n",
    "    recommended_song_id = recommended_songs.sample()['id'].values[0]\n",
    "\n",
    "    # Get the recommended song name\n",
    "    recommended_song_name = sp.track(recommended_song_id)['name']\n",
    "    recommended_artist_name = sp.track(recommended_song_id)['artists'][0]['name']\n",
    "\n",
    "    \n",
    "    # Display the recommended song using an embedded player\n",
    "    print(f\"We recommend '{recommended_song_name}' by {recommended_artist_name} based on your selection of '{sp.track(track_id)['name']}'\")\n",
    "    display(play(recommended_song_id))\n",
    "\n",
    "    # Ask the user if they want more recommendations\n",
    "    while True:\n",
    "        choice = input(\"Would you like more recommendations? (y/n) \")\n",
    "        if choice == \"y\":\n",
    "            recommend(track_id)\n",
    "            break\n",
    "        elif choice == \"n\":\n",
    "            break\n",
    "        else:\n",
    "            print(\"Invalid input. Please enter 'y' or 'n'.\")"
   ]
  },
  {
   "cell_type": "code",
   "execution_count": 8,
   "metadata": {},
   "outputs": [],
   "source": [
    "def recommend(track_id):\n",
    "    # Use the Spotify API to get the audio features for the selected song\n",
    "    audio_features = sp.audio_features(track_id)[0]\n",
    "\n",
    "    # Transform the audio features using the same PCA used to transform the clustered_df\n",
    "    X = pd.DataFrame(audio_features, index=[0])\n",
    "    X = X.drop(columns=['type','uri','track_href','analysis_url','id'])\n",
    "    X = X.drop(columns=['key','mode','time_signature'])\n",
    "    X_pca = pca.transform(scaler.transform(X))\n",
    "\n",
    "    # Use the KMeans model to predict the cluster for the selected song\n",
    "    cluster = kmeans.predict(X_pca)[0]\n",
    "\n",
    "    # Filter for songs in the same cluster as the selected song\n",
    "    recommended_songs = clustered_df[clustered_df['cluster'] == cluster]\n",
    "\n",
    "    # Recommend a random song from the list of songs in the same cluster as the selected song\n",
    "    recommended_song_id = recommended_songs.sample()['id'].values[0]\n",
    "\n",
    "    # Get the recommended song name\n",
    "    recommended_song_name = sp.track(recommended_song_id)['name']\n",
    "    recommended_artist_name = sp.track(recommended_song_id)['artists'][0]['name']\n",
    "\n",
    "    # Display the recommended song using an embedded player\n",
    "    print(f\"We recommend '{recommended_song_name}' by {recommended_artist_name} based on your selection of '{sp.track(track_id)['name']}'\")\n",
    "    display(play(recommended_song_id))\n",
    "\n",
    "    # Ask the user if they want more recommendations\n",
    "    while True:\n",
    "        choice = input(\"Would you like more recommendations? (y/n) \")\n",
    "        if choice == \"y\":\n",
    "            recommend(track_id)\n",
    "            break\n",
    "        elif choice == \"n\":\n",
    "            break\n",
    "        else:\n",
    "            print(\"Invalid input. Please enter 'y' or 'n'.\")\n"
   ]
  },
  {
   "cell_type": "markdown",
   "metadata": {},
   "source": [
    "## running the code"
   ]
  },
  {
   "cell_type": "code",
   "execution_count": 10,
   "metadata": {},
   "outputs": [
    {
     "name": "stdout",
     "output_type": "stream",
     "text": [
      "Enter the name of a song: tecno\n",
      "1. Tecnobow by El Alfa\n",
      "2. D-tecnoLife by UVERworld\n",
      "3. TECHNO + TEQUILA (feat. Morgan Harvill) by Disco Lines\n",
      "4. Tecno Tropic by DJ Mr Mora\n",
      "5. Techno Cumbia by Selena\n",
      "6. Tecno rain by Canelo Music\n",
      "7. Technologic by Daft Punk\n",
      "8. Techno by Drezo\n",
      "9. tecno by Manny Music RD\n",
      "10. Tecnobow Sandy by El Sandy RD\n",
      "Please select the song you meant by number (or type 'exit' to cancel): 4\n",
      "Now playing: Tecno Tropic by DJ Mr Mora\n"
     ]
    },
    {
     "data": {
      "text/html": [
       "\n",
       "        <iframe\n",
       "            width=\"320\"\n",
       "            height=\"80\"\n",
       "            src=\"https://open.spotify.com/embed/track/79g0cc7o7DHLGE6Wr7DWAQ?frameborder=0&allowtransparency=true&allow=encrypted-media\"\n",
       "            frameborder=\"0\"\n",
       "            allowfullscreen\n",
       "            \n",
       "        ></iframe>\n",
       "        "
      ],
      "text/plain": [
       "<IPython.lib.display.IFrame at 0x112995fd0>"
      ]
     },
     "metadata": {},
     "output_type": "display_data"
    },
    {
     "name": "stderr",
     "output_type": "stream",
     "text": [
      "/opt/anaconda3/lib/python3.9/site-packages/sklearn/base.py:450: UserWarning: X does not have valid feature names, but KMeans was fitted with feature names\n",
      "  warnings.warn(\n"
     ]
    },
    {
     "name": "stdout",
     "output_type": "stream",
     "text": [
      "We recommend 'Freaky' by Golf Clap based on your selection of 'Tecno Tropic'\n"
     ]
    },
    {
     "data": {
      "text/html": [
       "\n",
       "        <iframe\n",
       "            width=\"320\"\n",
       "            height=\"80\"\n",
       "            src=\"https://open.spotify.com/embed/track/4kGKb76jdupromKClU6Udl?frameborder=0&allowtransparency=true&allow=encrypted-media\"\n",
       "            frameborder=\"0\"\n",
       "            allowfullscreen\n",
       "            \n",
       "        ></iframe>\n",
       "        "
      ],
      "text/plain": [
       "<IPython.lib.display.IFrame at 0x128954d90>"
      ]
     },
     "metadata": {},
     "output_type": "display_data"
    },
    {
     "name": "stdout",
     "output_type": "stream",
     "text": [
      "Would you like more recommendations? (y/n) y\n"
     ]
    },
    {
     "name": "stderr",
     "output_type": "stream",
     "text": [
      "/opt/anaconda3/lib/python3.9/site-packages/sklearn/base.py:450: UserWarning: X does not have valid feature names, but KMeans was fitted with feature names\n",
      "  warnings.warn(\n"
     ]
    },
    {
     "name": "stdout",
     "output_type": "stream",
     "text": [
      "We recommend 'Drive Blind - 2001 Remaster' by Ride based on your selection of 'Tecno Tropic'\n"
     ]
    },
    {
     "data": {
      "text/html": [
       "\n",
       "        <iframe\n",
       "            width=\"320\"\n",
       "            height=\"80\"\n",
       "            src=\"https://open.spotify.com/embed/track/5Sg1W0xLdgaLP0OLJIApHJ?frameborder=0&allowtransparency=true&allow=encrypted-media\"\n",
       "            frameborder=\"0\"\n",
       "            allowfullscreen\n",
       "            \n",
       "        ></iframe>\n",
       "        "
      ],
      "text/plain": [
       "<IPython.lib.display.IFrame at 0x128954d00>"
      ]
     },
     "metadata": {},
     "output_type": "display_data"
    },
    {
     "name": "stdout",
     "output_type": "stream",
     "text": [
      "Would you like more recommendations? (y/n) y\n"
     ]
    },
    {
     "name": "stderr",
     "output_type": "stream",
     "text": [
      "/opt/anaconda3/lib/python3.9/site-packages/sklearn/base.py:450: UserWarning: X does not have valid feature names, but KMeans was fitted with feature names\n",
      "  warnings.warn(\n"
     ]
    },
    {
     "name": "stdout",
     "output_type": "stream",
     "text": [
      "We recommend 'Music for the Royal Fireworks: Suite HWV 351: 4. La réjouissance' by George Frideric Handel based on your selection of 'Tecno Tropic'\n"
     ]
    },
    {
     "data": {
      "text/html": [
       "\n",
       "        <iframe\n",
       "            width=\"320\"\n",
       "            height=\"80\"\n",
       "            src=\"https://open.spotify.com/embed/track/2H8nKAoMk1B7yKrd0uppGb?frameborder=0&allowtransparency=true&allow=encrypted-media\"\n",
       "            frameborder=\"0\"\n",
       "            allowfullscreen\n",
       "            \n",
       "        ></iframe>\n",
       "        "
      ],
      "text/plain": [
       "<IPython.lib.display.IFrame at 0x128954d00>"
      ]
     },
     "metadata": {},
     "output_type": "display_data"
    },
    {
     "name": "stdout",
     "output_type": "stream",
     "text": [
      "Would you like more recommendations? (y/n) y\n"
     ]
    },
    {
     "name": "stderr",
     "output_type": "stream",
     "text": [
      "/opt/anaconda3/lib/python3.9/site-packages/sklearn/base.py:450: UserWarning: X does not have valid feature names, but KMeans was fitted with feature names\n",
      "  warnings.warn(\n"
     ]
    },
    {
     "name": "stdout",
     "output_type": "stream",
     "text": [
      "We recommend 'Angst - RMX by twocolors' by Rammstein based on your selection of 'Tecno Tropic'\n"
     ]
    },
    {
     "data": {
      "text/html": [
       "\n",
       "        <iframe\n",
       "            width=\"320\"\n",
       "            height=\"80\"\n",
       "            src=\"https://open.spotify.com/embed/track/1kqx2Z9AXjbUCbPkUVbIRM?frameborder=0&allowtransparency=true&allow=encrypted-media\"\n",
       "            frameborder=\"0\"\n",
       "            allowfullscreen\n",
       "            \n",
       "        ></iframe>\n",
       "        "
      ],
      "text/plain": [
       "<IPython.lib.display.IFrame at 0x12a362d30>"
      ]
     },
     "metadata": {},
     "output_type": "display_data"
    },
    {
     "name": "stdout",
     "output_type": "stream",
     "text": [
      "Would you like more recommendations? (y/n) y\n"
     ]
    },
    {
     "name": "stderr",
     "output_type": "stream",
     "text": [
      "/opt/anaconda3/lib/python3.9/site-packages/sklearn/base.py:450: UserWarning: X does not have valid feature names, but KMeans was fitted with feature names\n",
      "  warnings.warn(\n"
     ]
    },
    {
     "name": "stdout",
     "output_type": "stream",
     "text": [
      "We recommend 'Fold' by Bonobo based on your selection of 'Tecno Tropic'\n"
     ]
    },
    {
     "data": {
      "text/html": [
       "\n",
       "        <iframe\n",
       "            width=\"320\"\n",
       "            height=\"80\"\n",
       "            src=\"https://open.spotify.com/embed/track/3yaAqfGcXeC02j88iaoebG?frameborder=0&allowtransparency=true&allow=encrypted-media\"\n",
       "            frameborder=\"0\"\n",
       "            allowfullscreen\n",
       "            \n",
       "        ></iframe>\n",
       "        "
      ],
      "text/plain": [
       "<IPython.lib.display.IFrame at 0x128fd48e0>"
      ]
     },
     "metadata": {},
     "output_type": "display_data"
    },
    {
     "name": "stdout",
     "output_type": "stream",
     "text": [
      "Would you like more recommendations? (y/n) y\n"
     ]
    },
    {
     "name": "stderr",
     "output_type": "stream",
     "text": [
      "/opt/anaconda3/lib/python3.9/site-packages/sklearn/base.py:450: UserWarning: X does not have valid feature names, but KMeans was fitted with feature names\n",
      "  warnings.warn(\n"
     ]
    },
    {
     "name": "stdout",
     "output_type": "stream",
     "text": [
      "We recommend 'Tirana' by minds&machines based on your selection of 'Tecno Tropic'\n"
     ]
    },
    {
     "data": {
      "text/html": [
       "\n",
       "        <iframe\n",
       "            width=\"320\"\n",
       "            height=\"80\"\n",
       "            src=\"https://open.spotify.com/embed/track/15KVtURLWmNBhpGWlbsG4t?frameborder=0&allowtransparency=true&allow=encrypted-media\"\n",
       "            frameborder=\"0\"\n",
       "            allowfullscreen\n",
       "            \n",
       "        ></iframe>\n",
       "        "
      ],
      "text/plain": [
       "<IPython.lib.display.IFrame at 0x128fd4f40>"
      ]
     },
     "metadata": {},
     "output_type": "display_data"
    },
    {
     "name": "stdout",
     "output_type": "stream",
     "text": [
      "Would you like more recommendations? (y/n) y\n"
     ]
    },
    {
     "name": "stderr",
     "output_type": "stream",
     "text": [
      "/opt/anaconda3/lib/python3.9/site-packages/sklearn/base.py:450: UserWarning: X does not have valid feature names, but KMeans was fitted with feature names\n",
      "  warnings.warn(\n"
     ]
    },
    {
     "name": "stdout",
     "output_type": "stream",
     "text": [
      "We recommend 'Neon Jungle - Lane 8 Remix' by CloZee based on your selection of 'Tecno Tropic'\n"
     ]
    },
    {
     "data": {
      "text/html": [
       "\n",
       "        <iframe\n",
       "            width=\"320\"\n",
       "            height=\"80\"\n",
       "            src=\"https://open.spotify.com/embed/track/4G3qY8rJC9C4BjKpzwsZN3?frameborder=0&allowtransparency=true&allow=encrypted-media\"\n",
       "            frameborder=\"0\"\n",
       "            allowfullscreen\n",
       "            \n",
       "        ></iframe>\n",
       "        "
      ],
      "text/plain": [
       "<IPython.lib.display.IFrame at 0x128fd4f40>"
      ]
     },
     "metadata": {},
     "output_type": "display_data"
    },
    {
     "name": "stdout",
     "output_type": "stream",
     "text": [
      "Would you like more recommendations? (y/n) n\n"
     ]
    }
   ],
   "source": [
    "recommend(search())"
   ]
  },
  {
   "cell_type": "code",
   "execution_count": null,
   "metadata": {},
   "outputs": [],
   "source": []
  }
 ],
 "metadata": {
  "colab": {
   "authorship_tag": "ABX9TyPVWC1t3Am5oxfsHrz0cF36",
   "mount_file_id": "1f3HsS5F0GzS75tlHyrwhBGlTWbE0nG4o",
   "name": "Code_along_Spotify_structure.ipynb",
   "provenance": []
  },
  "kernelspec": {
   "display_name": "Python 3 (ipykernel)",
   "language": "python",
   "name": "python3"
  },
  "language_info": {
   "codemirror_mode": {
    "name": "ipython",
    "version": 3
   },
   "file_extension": ".py",
   "mimetype": "text/x-python",
   "name": "python",
   "nbconvert_exporter": "python",
   "pygments_lexer": "ipython3",
   "version": "3.9.13"
  },
  "toc": {
   "base_numbering": 1,
   "nav_menu": {},
   "number_sections": true,
   "sideBar": true,
   "skip_h1_title": false,
   "title_cell": "Table of Contents",
   "title_sidebar": "Contents",
   "toc_cell": false,
   "toc_position": {},
   "toc_section_display": true,
   "toc_window_display": false
  },
  "varInspector": {
   "cols": {
    "lenName": 16,
    "lenType": 16,
    "lenVar": 40
   },
   "kernels_config": {
    "python": {
     "delete_cmd_postfix": "",
     "delete_cmd_prefix": "del ",
     "library": "var_list.py",
     "varRefreshCmd": "print(var_dic_list())"
    },
    "r": {
     "delete_cmd_postfix": ") ",
     "delete_cmd_prefix": "rm(",
     "library": "var_list.r",
     "varRefreshCmd": "cat(var_dic_list()) "
    }
   },
   "types_to_exclude": [
    "module",
    "function",
    "builtin_function_or_method",
    "instance",
    "_Feature"
   ],
   "window_display": false
  }
 },
 "nbformat": 4,
 "nbformat_minor": 1
}
