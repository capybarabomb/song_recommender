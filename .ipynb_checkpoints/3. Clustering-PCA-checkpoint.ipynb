{
 "cells": [
  {
   "cell_type": "markdown",
   "metadata": {
    "id": "ZcSGgeMpeAgy"
   },
   "source": [
    "## Importing libraries"
   ]
  },
  {
   "cell_type": "code",
   "execution_count": 1,
   "metadata": {
    "executionInfo": {
     "elapsed": 1543,
     "status": "ok",
     "timestamp": 1623846916468,
     "user": {
      "displayName": "Ignacio Soteras",
      "photoUrl": "",
      "userId": "02050793736257155229"
     },
     "user_tz": -120
    },
    "id": "MVmBiWjsd2Xd"
   },
   "outputs": [],
   "source": [
    "import numpy as np\n",
    "import pandas as pd\n",
    "import pickle\n",
    "from sklearn import datasets # sklearn comes with some toy datasets to practise\n",
    "from sklearn.preprocessing import StandardScaler\n",
    "from sklearn.cluster import KMeans\n",
    "from matplotlib import pyplot\n",
    "import matplotlib.pyplot as plt\n",
    "from sklearn.metrics import silhouette_score\n",
    "from sklearn.decomposition import PCA\n"
   ]
  },
  {
   "cell_type": "markdown",
   "metadata": {
    "id": "p-MFU-2neT38"
   },
   "source": [
    "## Loading the cleaned dataset"
   ]
  },
  {
   "cell_type": "code",
   "execution_count": 44,
   "metadata": {},
   "outputs": [],
   "source": [
    "df = pd.read_csv('df_cleaned_2.csv')"
   ]
  },
  {
   "cell_type": "code",
   "execution_count": 45,
   "metadata": {},
   "outputs": [
    {
     "data": {
      "text/plain": [
       "Index(['danceability', 'energy', 'loudness', 'speechiness', 'acousticness',\n",
       "       'instrumentalness', 'liveness', 'valence', 'tempo', 'id',\n",
       "       'duration_ms'],\n",
       "      dtype='object')"
      ]
     },
     "execution_count": 45,
     "metadata": {},
     "output_type": "execute_result"
    }
   ],
   "source": [
    "df.columns"
   ]
  },
  {
   "cell_type": "code",
   "execution_count": 29,
   "metadata": {},
   "outputs": [],
   "source": [
    "from sklearn.decomposition import PCA\n",
    "from sklearn.preprocessing import StandardScaler\n",
    "\n",
    "# assume df is your dataframe with all features\n",
    "X = df.drop(columns=['id'])\n",
    "\n",
    "# standardize features\n",
    "scaler = StandardScaler()\n",
    "X_scaled = scaler.fit_transform(X)\n",
    "\n",
    "# perform PCA\n",
    "pca = PCA()\n",
    "pca.fit(X_scaled)\n",
    "\n",
    "# calculate explained variance ratio for each principal component\n",
    "explained_variances = pca.explained_variance_ratio_\n",
    "\n",
    "# choose number of principal components to keep based on explained variance\n",
    "total_var = 0.0\n",
    "n_components = 0\n",
    "for i, explained_var in enumerate(explained_variances):\n",
    "    total_var += explained_var\n",
    "    if total_var >= 0.95:\n",
    "        n_components = i + 1\n",
    "        break\n",
    "\n",
    "# fit PCA with chosen number of components\n",
    "pca = PCA(n_components=n_components)\n",
    "X_pca = pca.fit_transform(X_scaled)\n",
    "\n",
    "# extract feature names corresponding to selected principal components\n",
    "pc_names = []\n",
    "for i in range(n_components):\n",
    "    pc_names.append('PC{}'.format(i+1))\n",
    "    \n",
    "# create new dataframe with selected principal components\n",
    "df_pca = pd.DataFrame(data=X_pca, columns=pc_names)\n",
    "\n",
    "# join id column back to the dataframe\n",
    "df_pca['id'] = df['id']"
   ]
  },
  {
   "cell_type": "code",
   "execution_count": 30,
   "metadata": {},
   "outputs": [],
   "source": [
    "df = df_pca"
   ]
  },
  {
   "cell_type": "markdown",
   "metadata": {
    "id": "jKnoCN1MgG6B"
   },
   "source": [
    "## Scaling features"
   ]
  },
  {
   "cell_type": "code",
   "execution_count": 31,
   "metadata": {},
   "outputs": [],
   "source": [
    "X = df.drop(columns=['id'])"
   ]
  },
  {
   "cell_type": "code",
   "execution_count": 32,
   "metadata": {
    "colab": {
     "base_uri": "https://localhost:8080/",
     "height": 319
    },
    "executionInfo": {
     "elapsed": 226,
     "status": "ok",
     "timestamp": 1623847356617,
     "user": {
      "displayName": "Ignacio Soteras",
      "photoUrl": "",
      "userId": "02050793736257155229"
     },
     "user_tz": -120
    },
    "id": "HwrUhwwcgRkP",
    "outputId": "006111e0-116d-4087-aaca-88219c7567de"
   },
   "outputs": [
    {
     "data": {
      "text/html": [
       "<div>\n",
       "<style scoped>\n",
       "    .dataframe tbody tr th:only-of-type {\n",
       "        vertical-align: middle;\n",
       "    }\n",
       "\n",
       "    .dataframe tbody tr th {\n",
       "        vertical-align: top;\n",
       "    }\n",
       "\n",
       "    .dataframe thead th {\n",
       "        text-align: right;\n",
       "    }\n",
       "</style>\n",
       "<table border=\"1\" class=\"dataframe\">\n",
       "  <thead>\n",
       "    <tr style=\"text-align: right;\">\n",
       "      <th></th>\n",
       "      <th>PC1</th>\n",
       "      <th>PC2</th>\n",
       "      <th>PC3</th>\n",
       "      <th>PC4</th>\n",
       "      <th>PC5</th>\n",
       "      <th>PC6</th>\n",
       "      <th>PC7</th>\n",
       "      <th>PC8</th>\n",
       "    </tr>\n",
       "  </thead>\n",
       "  <tbody>\n",
       "    <tr>\n",
       "      <th>0</th>\n",
       "      <td>-1.669817</td>\n",
       "      <td>-0.658234</td>\n",
       "      <td>-0.059614</td>\n",
       "      <td>0.118175</td>\n",
       "      <td>-0.981292</td>\n",
       "      <td>1.021232</td>\n",
       "      <td>0.391480</td>\n",
       "      <td>0.193994</td>\n",
       "    </tr>\n",
       "    <tr>\n",
       "      <th>1</th>\n",
       "      <td>-1.373356</td>\n",
       "      <td>-1.020625</td>\n",
       "      <td>-0.949284</td>\n",
       "      <td>-0.145341</td>\n",
       "      <td>0.046685</td>\n",
       "      <td>-0.242477</td>\n",
       "      <td>0.195320</td>\n",
       "      <td>0.023502</td>\n",
       "    </tr>\n",
       "    <tr>\n",
       "      <th>2</th>\n",
       "      <td>-0.810712</td>\n",
       "      <td>-0.524887</td>\n",
       "      <td>-0.470797</td>\n",
       "      <td>0.806540</td>\n",
       "      <td>-0.443665</td>\n",
       "      <td>-0.734807</td>\n",
       "      <td>-0.779798</td>\n",
       "      <td>-0.001148</td>\n",
       "    </tr>\n",
       "    <tr>\n",
       "      <th>3</th>\n",
       "      <td>-0.413005</td>\n",
       "      <td>-0.116285</td>\n",
       "      <td>-0.181084</td>\n",
       "      <td>0.379724</td>\n",
       "      <td>0.692622</td>\n",
       "      <td>-1.452238</td>\n",
       "      <td>-0.078763</td>\n",
       "      <td>0.084681</td>\n",
       "    </tr>\n",
       "    <tr>\n",
       "      <th>4</th>\n",
       "      <td>-0.050569</td>\n",
       "      <td>-0.644328</td>\n",
       "      <td>-0.520703</td>\n",
       "      <td>0.338099</td>\n",
       "      <td>0.040460</td>\n",
       "      <td>-1.194976</td>\n",
       "      <td>-0.260888</td>\n",
       "      <td>-1.037182</td>\n",
       "    </tr>\n",
       "    <tr>\n",
       "      <th>...</th>\n",
       "      <td>...</td>\n",
       "      <td>...</td>\n",
       "      <td>...</td>\n",
       "      <td>...</td>\n",
       "      <td>...</td>\n",
       "      <td>...</td>\n",
       "      <td>...</td>\n",
       "      <td>...</td>\n",
       "    </tr>\n",
       "    <tr>\n",
       "      <th>13084</th>\n",
       "      <td>4.708629</td>\n",
       "      <td>-0.222804</td>\n",
       "      <td>-0.248497</td>\n",
       "      <td>0.841810</td>\n",
       "      <td>0.794439</td>\n",
       "      <td>-0.083391</td>\n",
       "      <td>-0.267008</td>\n",
       "      <td>0.579964</td>\n",
       "    </tr>\n",
       "    <tr>\n",
       "      <th>13085</th>\n",
       "      <td>3.028452</td>\n",
       "      <td>0.063580</td>\n",
       "      <td>0.415856</td>\n",
       "      <td>-0.874861</td>\n",
       "      <td>-0.671918</td>\n",
       "      <td>-0.790412</td>\n",
       "      <td>1.235727</td>\n",
       "      <td>-0.769395</td>\n",
       "    </tr>\n",
       "    <tr>\n",
       "      <th>13086</th>\n",
       "      <td>3.784242</td>\n",
       "      <td>0.692179</td>\n",
       "      <td>0.105798</td>\n",
       "      <td>0.717921</td>\n",
       "      <td>0.530246</td>\n",
       "      <td>0.645307</td>\n",
       "      <td>-0.270077</td>\n",
       "      <td>0.182474</td>\n",
       "    </tr>\n",
       "    <tr>\n",
       "      <th>13087</th>\n",
       "      <td>2.859544</td>\n",
       "      <td>-1.678536</td>\n",
       "      <td>0.485926</td>\n",
       "      <td>0.556259</td>\n",
       "      <td>-0.741367</td>\n",
       "      <td>-1.070756</td>\n",
       "      <td>0.628771</td>\n",
       "      <td>-0.353880</td>\n",
       "    </tr>\n",
       "    <tr>\n",
       "      <th>13088</th>\n",
       "      <td>3.882083</td>\n",
       "      <td>-0.727013</td>\n",
       "      <td>0.304858</td>\n",
       "      <td>0.074712</td>\n",
       "      <td>-0.599021</td>\n",
       "      <td>1.074053</td>\n",
       "      <td>-0.594059</td>\n",
       "      <td>0.524686</td>\n",
       "    </tr>\n",
       "  </tbody>\n",
       "</table>\n",
       "<p>13089 rows × 8 columns</p>\n",
       "</div>"
      ],
      "text/plain": [
       "            PC1       PC2       PC3       PC4       PC5       PC6       PC7  \\\n",
       "0     -1.669817 -0.658234 -0.059614  0.118175 -0.981292  1.021232  0.391480   \n",
       "1     -1.373356 -1.020625 -0.949284 -0.145341  0.046685 -0.242477  0.195320   \n",
       "2     -0.810712 -0.524887 -0.470797  0.806540 -0.443665 -0.734807 -0.779798   \n",
       "3     -0.413005 -0.116285 -0.181084  0.379724  0.692622 -1.452238 -0.078763   \n",
       "4     -0.050569 -0.644328 -0.520703  0.338099  0.040460 -1.194976 -0.260888   \n",
       "...         ...       ...       ...       ...       ...       ...       ...   \n",
       "13084  4.708629 -0.222804 -0.248497  0.841810  0.794439 -0.083391 -0.267008   \n",
       "13085  3.028452  0.063580  0.415856 -0.874861 -0.671918 -0.790412  1.235727   \n",
       "13086  3.784242  0.692179  0.105798  0.717921  0.530246  0.645307 -0.270077   \n",
       "13087  2.859544 -1.678536  0.485926  0.556259 -0.741367 -1.070756  0.628771   \n",
       "13088  3.882083 -0.727013  0.304858  0.074712 -0.599021  1.074053 -0.594059   \n",
       "\n",
       "            PC8  \n",
       "0      0.193994  \n",
       "1      0.023502  \n",
       "2     -0.001148  \n",
       "3      0.084681  \n",
       "4     -1.037182  \n",
       "...         ...  \n",
       "13084  0.579964  \n",
       "13085 -0.769395  \n",
       "13086  0.182474  \n",
       "13087 -0.353880  \n",
       "13088  0.524686  \n",
       "\n",
       "[13089 rows x 8 columns]"
      ]
     },
     "execution_count": 32,
     "metadata": {},
     "output_type": "execute_result"
    }
   ],
   "source": [
    "X"
   ]
  },
  {
   "cell_type": "markdown",
   "metadata": {
    "id": "77b-H29dnlLP"
   },
   "source": [
    "## Chosing K"
   ]
  },
  {
   "cell_type": "markdown",
   "metadata": {
    "id": "shXQmFxLpVU8"
   },
   "source": [
    "## Silouhette"
   ]
  },
  {
   "cell_type": "code",
   "execution_count": 33,
   "metadata": {
    "colab": {
     "base_uri": "https://localhost:8080/",
     "height": 530
    },
    "executionInfo": {
     "elapsed": 2352,
     "status": "ok",
     "timestamp": 1623849582213,
     "user": {
      "displayName": "Ignacio Soteras",
      "photoUrl": "",
      "userId": "02050793736257155229"
     },
     "user_tz": -120
    },
    "id": "c4qvvkaOvqjr",
    "outputId": "96b4dea1-2977-4916-c92c-d9090a6886aa"
   },
   "outputs": [
    {
     "name": "stdout",
     "output_type": "stream",
     "text": [
      "Training a K-Means model with 2 clusters! \n",
      "\n",
      "Training a K-Means model with 3 clusters! \n",
      "\n",
      "Training a K-Means model with 4 clusters! \n",
      "\n",
      "Training a K-Means model with 5 clusters! \n",
      "\n",
      "Training a K-Means model with 6 clusters! \n",
      "\n",
      "Training a K-Means model with 7 clusters! \n",
      "\n",
      "Training a K-Means model with 8 clusters! \n",
      "\n",
      "Training a K-Means model with 9 clusters! \n",
      "\n",
      "Training a K-Means model with 10 clusters! \n",
      "\n",
      "Training a K-Means model with 11 clusters! \n",
      "\n",
      "Training a K-Means model with 12 clusters! \n",
      "\n",
      "Training a K-Means model with 13 clusters! \n",
      "\n",
      "Training a K-Means model with 14 clusters! \n",
      "\n",
      "Training a K-Means model with 15 clusters! \n",
      "\n",
      "Training a K-Means model with 16 clusters! \n",
      "\n",
      "Training a K-Means model with 17 clusters! \n",
      "\n",
      "Training a K-Means model with 18 clusters! \n",
      "\n",
      "Training a K-Means model with 19 clusters! \n",
      "\n",
      "Training a K-Means model with 20 clusters! \n",
      "\n",
      "Training a K-Means model with 21 clusters! \n",
      "\n"
     ]
    },
    {
     "data": {
      "text/plain": [
       "Text(0.5, 1.0, 'Silhouette Method showing the optimal k')"
      ]
     },
     "execution_count": 33,
     "metadata": {},
     "output_type": "execute_result"
    },
    {
     "data": {
      "image/png": "[encoded data removed]",
      "text/plain": [
       "<Figure size 1600x800 with 1 Axes>"
      ]
     },
     "metadata": {},
     "output_type": "display_data"
    }
   ],
   "source": [
    "K = range(2, 22)\n",
    "silhouette = []\n",
    "\n",
    "for k in K:\n",
    "    print(\"Training a K-Means model with {} clusters! \".format(k))\n",
    "    print()\n",
    "    kmeans = KMeans(n_clusters=k,\n",
    "                    random_state=1234)\n",
    "    kmeans.fit(X)\n",
    "    \n",
    "    filename = \"Model/kmeans_\" + str(k) + \".pickle\"\n",
    "    with open(filename, \"wb\") as f:\n",
    "        pickle.dump(kmeans,f)\n",
    "    \n",
    "    silhouette.append(silhouette_score(X, kmeans.predict(X)))\n",
    "\n",
    "\n",
    "plt.figure(figsize=(16,8))\n",
    "plt.plot(K, silhouette, 'bx-')\n",
    "plt.xlabel('k')\n",
    "plt.ylabel('silhouette score')\n",
    "plt.xticks(np.arange(min(K), max(K)+1, 1.0))\n",
    "plt.title('Silhouette Method showing the optimal k')"
   ]
  },
  {
   "cell_type": "markdown",
   "metadata": {
    "id": "TmE9ES1EwPhL"
   },
   "source": [
    "The greater the Silouhette, the greater the separation between the clusters, In other words, the clusters will be more defined."
   ]
  },
  {
   "cell_type": "markdown",
   "metadata": {
    "id": "W8zgKxQKhBUr"
   },
   "source": [
    "## Clustering the songs with K-Means"
   ]
  },
  {
   "cell_type": "code",
   "execution_count": 34,
   "metadata": {
    "colab": {
     "base_uri": "https://localhost:8080/"
    },
    "executionInfo": {
     "elapsed": 208,
     "status": "ok",
     "timestamp": 1623848315608,
     "user": {
      "displayName": "Ignacio Soteras",
      "photoUrl": "",
      "userId": "02050793736257155229"
     },
     "user_tz": -120
    },
    "id": "qS4o_tT1hGAG",
    "outputId": "eecc7527-b3df-4576-f931-881e198c2166"
   },
   "outputs": [
    {
     "data": {
      "text/plain": [
       "KMeans(random_state=1234)"
      ]
     },
     "execution_count": 34,
     "metadata": {},
     "output_type": "execute_result"
    }
   ],
   "source": [
    "kmeans = KMeans(n_clusters=8, random_state=1234)\n",
    "kmeans.fit(X)"
   ]
  },
  {
   "cell_type": "code",
   "execution_count": 35,
   "metadata": {},
   "outputs": [
    {
     "data": {
      "image/png": "[encoded data removed]",
      "text/plain": [
       "<Figure size 640x480 with 1 Axes>"
      ]
     },
     "metadata": {},
     "output_type": "display_data"
    }
   ],
   "source": [
    "# assign a cluster to each example\n",
    "labels = kmeans.predict(X)\n",
    "# retrieve unique clusters\n",
    "clusters = np.unique(labels)\n",
    "# create scatter plot for samples from each cluster\n",
    "for cluster in clusters:\n",
    "    # get row indexes for samples with this cluster\n",
    "    row_ix = np.where(labels == cluster)\n",
    "    # create scatter of these samples\n",
    "    pyplot.scatter(X.to_numpy()[row_ix, 1], X.to_numpy()[row_ix, 3])\n",
    "    # show the plot\n",
    "pyplot.show()"
   ]
  },
  {
   "cell_type": "markdown",
   "metadata": {
    "id": "27Ab6CkAhoOT"
   },
   "source": [
    "Now we have our \"model\", let's get the clusters and how many observations has each cluster."
   ]
  },
  {
   "cell_type": "code",
   "execution_count": 36,
   "metadata": {
    "colab": {
     "base_uri": "https://localhost:8080/"
    },
    "executionInfo": {
     "elapsed": 280,
     "status": "ok",
     "timestamp": 1623848518689,
     "user": {
      "displayName": "Ignacio Soteras",
      "photoUrl": "",
      "userId": "02050793736257155229"
     },
     "user_tz": -120
    },
    "id": "jHfWQSmth9yR",
    "outputId": "d952adf3-9ced-4a61-dc93-14ed804a4fe1"
   },
   "outputs": [
    {
     "data": {
      "text/plain": [
       "0    2237\n",
       "1     855\n",
       "2    1801\n",
       "3     378\n",
       "4    2362\n",
       "5    1341\n",
       "6    3225\n",
       "7     890\n",
       "dtype: int64"
      ]
     },
     "execution_count": 36,
     "metadata": {},
     "output_type": "execute_result"
    }
   ],
   "source": [
    "clusters = kmeans.predict(X)\n",
    "#clusters\n",
    "pd.Series(clusters).value_counts().sort_index()"
   ]
  },
  {
   "cell_type": "markdown",
   "metadata": {
    "id": "R7K3uJuPimcS"
   },
   "source": [
    "Now let's see to which group was assigned every song."
   ]
  },
  {
   "cell_type": "code",
   "execution_count": 37,
   "metadata": {
    "colab": {
     "base_uri": "https://localhost:8080/",
     "height": 225
    },
    "executionInfo": {
     "elapsed": 234,
     "status": "ok",
     "timestamp": 1623848601645,
     "user": {
      "displayName": "Ignacio Soteras",
      "photoUrl": "",
      "userId": "02050793736257155229"
     },
     "user_tz": -120
    },
    "id": "RmWPL4DjiyIP",
    "outputId": "b1a15218-8112-4e6f-c87a-f6e4a972080d"
   },
   "outputs": [],
   "source": [
    "#X_df = pd.DataFrame(X)\n",
    "df[\"cluster\"] = clusters"
   ]
  },
  {
   "cell_type": "code",
   "execution_count": 38,
   "metadata": {},
   "outputs": [
    {
     "data": {
      "text/html": [
       "<div>\n",
       "<style scoped>\n",
       "    .dataframe tbody tr th:only-of-type {\n",
       "        vertical-align: middle;\n",
       "    }\n",
       "\n",
       "    .dataframe tbody tr th {\n",
       "        vertical-align: top;\n",
       "    }\n",
       "\n",
       "    .dataframe thead th {\n",
       "        text-align: right;\n",
       "    }\n",
       "</style>\n",
       "<table border=\"1\" class=\"dataframe\">\n",
       "  <thead>\n",
       "    <tr style=\"text-align: right;\">\n",
       "      <th></th>\n",
       "      <th>PC1</th>\n",
       "      <th>PC2</th>\n",
       "      <th>PC3</th>\n",
       "      <th>PC4</th>\n",
       "      <th>PC5</th>\n",
       "      <th>PC6</th>\n",
       "      <th>PC7</th>\n",
       "      <th>PC8</th>\n",
       "      <th>id</th>\n",
       "      <th>cluster</th>\n",
       "    </tr>\n",
       "  </thead>\n",
       "  <tbody>\n",
       "    <tr>\n",
       "      <th>0</th>\n",
       "      <td>-1.669817</td>\n",
       "      <td>-0.658234</td>\n",
       "      <td>-0.059614</td>\n",
       "      <td>0.118175</td>\n",
       "      <td>-0.981292</td>\n",
       "      <td>1.021232</td>\n",
       "      <td>0.391480</td>\n",
       "      <td>0.193994</td>\n",
       "      <td>6AQbmUe0Qwf5PZnt4HmTXv</td>\n",
       "      <td>6</td>\n",
       "    </tr>\n",
       "    <tr>\n",
       "      <th>1</th>\n",
       "      <td>-1.373356</td>\n",
       "      <td>-1.020625</td>\n",
       "      <td>-0.949284</td>\n",
       "      <td>-0.145341</td>\n",
       "      <td>0.046685</td>\n",
       "      <td>-0.242477</td>\n",
       "      <td>0.195320</td>\n",
       "      <td>0.023502</td>\n",
       "      <td>0yLdNVWF3Srea0uzk55zFn</td>\n",
       "      <td>6</td>\n",
       "    </tr>\n",
       "    <tr>\n",
       "      <th>2</th>\n",
       "      <td>-0.810712</td>\n",
       "      <td>-0.524887</td>\n",
       "      <td>-0.470797</td>\n",
       "      <td>0.806540</td>\n",
       "      <td>-0.443665</td>\n",
       "      <td>-0.734807</td>\n",
       "      <td>-0.779798</td>\n",
       "      <td>-0.001148</td>\n",
       "      <td>1Qrg8KqiBpW07V7PNxwwwL</td>\n",
       "      <td>0</td>\n",
       "    </tr>\n",
       "    <tr>\n",
       "      <th>3</th>\n",
       "      <td>-0.413005</td>\n",
       "      <td>-0.116285</td>\n",
       "      <td>-0.181084</td>\n",
       "      <td>0.379724</td>\n",
       "      <td>0.692622</td>\n",
       "      <td>-1.452238</td>\n",
       "      <td>-0.078763</td>\n",
       "      <td>0.084681</td>\n",
       "      <td>5Z2MiIZ5I3jJvvmeWMLbOQ</td>\n",
       "      <td>0</td>\n",
       "    </tr>\n",
       "    <tr>\n",
       "      <th>4</th>\n",
       "      <td>-0.050569</td>\n",
       "      <td>-0.644328</td>\n",
       "      <td>-0.520703</td>\n",
       "      <td>0.338099</td>\n",
       "      <td>0.040460</td>\n",
       "      <td>-1.194976</td>\n",
       "      <td>-0.260888</td>\n",
       "      <td>-1.037182</td>\n",
       "      <td>2dHHgzDwk4BJdRwy9uXhTO</td>\n",
       "      <td>0</td>\n",
       "    </tr>\n",
       "    <tr>\n",
       "      <th>...</th>\n",
       "      <td>...</td>\n",
       "      <td>...</td>\n",
       "      <td>...</td>\n",
       "      <td>...</td>\n",
       "      <td>...</td>\n",
       "      <td>...</td>\n",
       "      <td>...</td>\n",
       "      <td>...</td>\n",
       "      <td>...</td>\n",
       "      <td>...</td>\n",
       "    </tr>\n",
       "    <tr>\n",
       "      <th>13084</th>\n",
       "      <td>4.708629</td>\n",
       "      <td>-0.222804</td>\n",
       "      <td>-0.248497</td>\n",
       "      <td>0.841810</td>\n",
       "      <td>0.794439</td>\n",
       "      <td>-0.083391</td>\n",
       "      <td>-0.267008</td>\n",
       "      <td>0.579964</td>\n",
       "      <td>2IAnU53rak76TpGpA515Xl</td>\n",
       "      <td>2</td>\n",
       "    </tr>\n",
       "    <tr>\n",
       "      <th>13085</th>\n",
       "      <td>3.028452</td>\n",
       "      <td>0.063580</td>\n",
       "      <td>0.415856</td>\n",
       "      <td>-0.874861</td>\n",
       "      <td>-0.671918</td>\n",
       "      <td>-0.790412</td>\n",
       "      <td>1.235727</td>\n",
       "      <td>-0.769395</td>\n",
       "      <td>4zPZbj1sNxCOtU1CdgCK53</td>\n",
       "      <td>2</td>\n",
       "    </tr>\n",
       "    <tr>\n",
       "      <th>13086</th>\n",
       "      <td>3.784242</td>\n",
       "      <td>0.692179</td>\n",
       "      <td>0.105798</td>\n",
       "      <td>0.717921</td>\n",
       "      <td>0.530246</td>\n",
       "      <td>0.645307</td>\n",
       "      <td>-0.270077</td>\n",
       "      <td>0.182474</td>\n",
       "      <td>2qYu0I9yKKpGnbySmN6w3K</td>\n",
       "      <td>2</td>\n",
       "    </tr>\n",
       "    <tr>\n",
       "      <th>13087</th>\n",
       "      <td>2.859544</td>\n",
       "      <td>-1.678536</td>\n",
       "      <td>0.485926</td>\n",
       "      <td>0.556259</td>\n",
       "      <td>-0.741367</td>\n",
       "      <td>-1.070756</td>\n",
       "      <td>0.628771</td>\n",
       "      <td>-0.353880</td>\n",
       "      <td>1xU1yjwGAGCCE3RiB8YKLe</td>\n",
       "      <td>2</td>\n",
       "    </tr>\n",
       "    <tr>\n",
       "      <th>13088</th>\n",
       "      <td>3.882083</td>\n",
       "      <td>-0.727013</td>\n",
       "      <td>0.304858</td>\n",
       "      <td>0.074712</td>\n",
       "      <td>-0.599021</td>\n",
       "      <td>1.074053</td>\n",
       "      <td>-0.594059</td>\n",
       "      <td>0.524686</td>\n",
       "      <td>4j8lYY8CxTPkY2DLLQT4hy</td>\n",
       "      <td>2</td>\n",
       "    </tr>\n",
       "  </tbody>\n",
       "</table>\n",
       "<p>13089 rows × 10 columns</p>\n",
       "</div>"
      ],
      "text/plain": [
       "            PC1       PC2       PC3       PC4       PC5       PC6       PC7  \\\n",
       "0     -1.669817 -0.658234 -0.059614  0.118175 -0.981292  1.021232  0.391480   \n",
       "1     -1.373356 -1.020625 -0.949284 -0.145341  0.046685 -0.242477  0.195320   \n",
       "2     -0.810712 -0.524887 -0.470797  0.806540 -0.443665 -0.734807 -0.779798   \n",
       "3     -0.413005 -0.116285 -0.181084  0.379724  0.692622 -1.452238 -0.078763   \n",
       "4     -0.050569 -0.644328 -0.520703  0.338099  0.040460 -1.194976 -0.260888   \n",
       "...         ...       ...       ...       ...       ...       ...       ...   \n",
       "13084  4.708629 -0.222804 -0.248497  0.841810  0.794439 -0.083391 -0.267008   \n",
       "13085  3.028452  0.063580  0.415856 -0.874861 -0.671918 -0.790412  1.235727   \n",
       "13086  3.784242  0.692179  0.105798  0.717921  0.530246  0.645307 -0.270077   \n",
       "13087  2.859544 -1.678536  0.485926  0.556259 -0.741367 -1.070756  0.628771   \n",
       "13088  3.882083 -0.727013  0.304858  0.074712 -0.599021  1.074053 -0.594059   \n",
       "\n",
       "            PC8                      id  cluster  \n",
       "0      0.193994  6AQbmUe0Qwf5PZnt4HmTXv        6  \n",
       "1      0.023502  0yLdNVWF3Srea0uzk55zFn        6  \n",
       "2     -0.001148  1Qrg8KqiBpW07V7PNxwwwL        0  \n",
       "3      0.084681  5Z2MiIZ5I3jJvvmeWMLbOQ        0  \n",
       "4     -1.037182  2dHHgzDwk4BJdRwy9uXhTO        0  \n",
       "...         ...                     ...      ...  \n",
       "13084  0.579964  2IAnU53rak76TpGpA515Xl        2  \n",
       "13085 -0.769395  4zPZbj1sNxCOtU1CdgCK53        2  \n",
       "13086  0.182474  2qYu0I9yKKpGnbySmN6w3K        2  \n",
       "13087 -0.353880  1xU1yjwGAGCCE3RiB8YKLe        2  \n",
       "13088  0.524686  4j8lYY8CxTPkY2DLLQT4hy        2  \n",
       "\n",
       "[13089 rows x 10 columns]"
      ]
     },
     "execution_count": 38,
     "metadata": {},
     "output_type": "execute_result"
    }
   ],
   "source": [
    "df"
   ]
  },
  {
   "cell_type": "markdown",
   "metadata": {
    "id": "3NkfqPiJjb76"
   },
   "source": [
    "## Playing with the parameters"
   ]
  },
  {
   "cell_type": "code",
   "execution_count": 39,
   "metadata": {
    "colab": {
     "base_uri": "https://localhost:8080/"
    },
    "executionInfo": {
     "elapsed": 228,
     "status": "ok",
     "timestamp": 1623848859464,
     "user": {
      "displayName": "Ignacio Soteras",
      "photoUrl": "",
      "userId": "02050793736257155229"
     },
     "user_tz": -120
    },
    "id": "IfB_M6fgkYrO",
    "outputId": "f7437ec0-2b22-4f65-ee9d-6e1efec6eda0"
   },
   "outputs": [
    {
     "data": {
      "text/plain": [
       "49964.552951687205"
      ]
     },
     "execution_count": 39,
     "metadata": {},
     "output_type": "execute_result"
    }
   ],
   "source": [
    "kmeans.inertia_"
   ]
  },
  {
   "cell_type": "markdown",
   "metadata": {
    "id": "rQ7S4T2TtKz1"
   },
   "source": [
    "# Saving with pickle"
   ]
  },
  {
   "cell_type": "code",
   "execution_count": 40,
   "metadata": {},
   "outputs": [],
   "source": [
    "df.to_csv('test_PCA2.csv', index=False)"
   ]
  },
  {
   "cell_type": "code",
   "execution_count": 41,
   "metadata": {
    "executionInfo": {
     "elapsed": 432,
     "status": "ok",
     "timestamp": 1623850976766,
     "user": {
      "displayName": "Ignacio Soteras",
      "photoUrl": "",
      "userId": "02050793736257155229"
     },
     "user_tz": -120
    },
    "id": "w0DBvROTtNRZ"
   },
   "outputs": [],
   "source": [
    "# Save both objects together\n",
    "with open(\"test_PCA2.pkl\", \"wb\") as f:\n",
    "    pickle.dump((scaler, kmeans, pca), f)"
   ]
  },
  {
   "cell_type": "code",
   "execution_count": null,
   "metadata": {},
   "outputs": [],
   "source": []
  }
 ],
 "metadata": {
  "colab": {
   "name": "code_along_KMeans_structure.ipynb",
   "provenance": []
  },
  "kernelspec": {
   "display_name": "Python 3 (ipykernel)",
   "language": "python",
   "name": "python3"
  },
  "language_info": {
   "codemirror_mode": {
    "name": "ipython",
    "version": 3
   },
   "file_extension": ".py",
   "mimetype": "text/x-python",
   "name": "python",
   "nbconvert_exporter": "python",
   "pygments_lexer": "ipython3",
   "version": "3.9.13"
  },
  "toc": {
   "base_numbering": 1,
   "nav_menu": {},
   "number_sections": true,
   "sideBar": true,
   "skip_h1_title": false,
   "title_cell": "Table of Contents",
   "title_sidebar": "Contents",
   "toc_cell": false,
   "toc_position": {},
   "toc_section_display": true,
   "toc_window_display": false
  }
 },
 "nbformat": 4,
 "nbformat_minor": 1
}
