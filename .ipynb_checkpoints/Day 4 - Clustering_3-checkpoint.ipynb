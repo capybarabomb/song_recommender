{
 "cells": [
  {
   "cell_type": "markdown",
   "metadata": {
    "id": "ZcSGgeMpeAgy"
   },
   "source": [
    "## Importing libraries"
   ]
  },
  {
   "cell_type": "code",
   "execution_count": 1,
   "metadata": {
    "executionInfo": {
     "elapsed": 1543,
     "status": "ok",
     "timestamp": 1623846916468,
     "user": {
      "displayName": "Ignacio Soteras",
      "photoUrl": "",
      "userId": "02050793736257155229"
     },
     "user_tz": -120
    },
    "id": "MVmBiWjsd2Xd"
   },
   "outputs": [],
   "source": [
    "import numpy as np\n",
    "import pandas as pd\n",
    "import pickle\n",
    "from sklearn import datasets # sklearn comes with some toy datasets to practise\n",
    "from sklearn.preprocessing import StandardScaler\n",
    "from sklearn.cluster import KMeans\n",
    "from matplotlib import pyplot\n",
    "import matplotlib.pyplot as plt\n",
    "from sklearn.metrics import silhouette_score"
   ]
  },
  {
   "cell_type": "markdown",
   "metadata": {
    "id": "p-MFU-2neT38"
   },
   "source": [
    "## Loading the cleaned dataset"
   ]
  },
  {
   "cell_type": "code",
   "execution_count": 2,
   "metadata": {},
   "outputs": [
    {
     "data": {
      "text/html": [
       "<div>\n",
       "<style scoped>\n",
       "    .dataframe tbody tr th:only-of-type {\n",
       "        vertical-align: middle;\n",
       "    }\n",
       "\n",
       "    .dataframe tbody tr th {\n",
       "        vertical-align: top;\n",
       "    }\n",
       "\n",
       "    .dataframe thead th {\n",
       "        text-align: right;\n",
       "    }\n",
       "</style>\n",
       "<table border=\"1\" class=\"dataframe\">\n",
       "  <thead>\n",
       "    <tr style=\"text-align: right;\">\n",
       "      <th></th>\n",
       "      <th>danceability</th>\n",
       "      <th>energy</th>\n",
       "      <th>loudness</th>\n",
       "      <th>speechiness</th>\n",
       "      <th>acousticness</th>\n",
       "      <th>instrumentalness</th>\n",
       "      <th>liveness</th>\n",
       "      <th>valence</th>\n",
       "      <th>tempo</th>\n",
       "      <th>duration_ms</th>\n",
       "    </tr>\n",
       "  </thead>\n",
       "  <tbody>\n",
       "    <tr>\n",
       "      <th>0</th>\n",
       "      <td>0.696</td>\n",
       "      <td>0.8090</td>\n",
       "      <td>-8.254</td>\n",
       "      <td>0.0500</td>\n",
       "      <td>0.2520</td>\n",
       "      <td>0.000128</td>\n",
       "      <td>0.2480</td>\n",
       "      <td>0.8570</td>\n",
       "      <td>132.962</td>\n",
       "      <td>131013</td>\n",
       "    </tr>\n",
       "    <tr>\n",
       "      <th>1</th>\n",
       "      <td>0.707</td>\n",
       "      <td>0.6810</td>\n",
       "      <td>-4.325</td>\n",
       "      <td>0.0668</td>\n",
       "      <td>0.0632</td>\n",
       "      <td>0.000005</td>\n",
       "      <td>0.0322</td>\n",
       "      <td>0.6460</td>\n",
       "      <td>117.999</td>\n",
       "      <td>200455</td>\n",
       "    </tr>\n",
       "    <tr>\n",
       "      <th>2</th>\n",
       "      <td>0.644</td>\n",
       "      <td>0.7350</td>\n",
       "      <td>-5.747</td>\n",
       "      <td>0.0391</td>\n",
       "      <td>0.0521</td>\n",
       "      <td>0.144000</td>\n",
       "      <td>0.1610</td>\n",
       "      <td>0.4180</td>\n",
       "      <td>88.980</td>\n",
       "      <td>153947</td>\n",
       "    </tr>\n",
       "    <tr>\n",
       "      <th>3</th>\n",
       "      <td>0.538</td>\n",
       "      <td>0.7420</td>\n",
       "      <td>-5.355</td>\n",
       "      <td>0.1140</td>\n",
       "      <td>0.1380</td>\n",
       "      <td>0.000047</td>\n",
       "      <td>0.0934</td>\n",
       "      <td>0.2500</td>\n",
       "      <td>96.107</td>\n",
       "      <td>272373</td>\n",
       "    </tr>\n",
       "    <tr>\n",
       "      <th>4</th>\n",
       "      <td>0.715</td>\n",
       "      <td>0.6200</td>\n",
       "      <td>-6.005</td>\n",
       "      <td>0.0484</td>\n",
       "      <td>0.4170</td>\n",
       "      <td>0.000000</td>\n",
       "      <td>0.0822</td>\n",
       "      <td>0.1720</td>\n",
       "      <td>97.950</td>\n",
       "      <td>221520</td>\n",
       "    </tr>\n",
       "    <tr>\n",
       "      <th>...</th>\n",
       "      <td>...</td>\n",
       "      <td>...</td>\n",
       "      <td>...</td>\n",
       "      <td>...</td>\n",
       "      <td>...</td>\n",
       "      <td>...</td>\n",
       "      <td>...</td>\n",
       "      <td>...</td>\n",
       "      <td>...</td>\n",
       "      <td>...</td>\n",
       "    </tr>\n",
       "    <tr>\n",
       "      <th>13084</th>\n",
       "      <td>0.261</td>\n",
       "      <td>0.0585</td>\n",
       "      <td>-22.054</td>\n",
       "      <td>0.0473</td>\n",
       "      <td>0.9870</td>\n",
       "      <td>0.872000</td>\n",
       "      <td>0.0887</td>\n",
       "      <td>0.1380</td>\n",
       "      <td>67.242</td>\n",
       "      <td>439213</td>\n",
       "    </tr>\n",
       "    <tr>\n",
       "      <th>13085</th>\n",
       "      <td>0.322</td>\n",
       "      <td>0.1290</td>\n",
       "      <td>-20.671</td>\n",
       "      <td>0.0437</td>\n",
       "      <td>0.9920</td>\n",
       "      <td>0.003620</td>\n",
       "      <td>0.1010</td>\n",
       "      <td>0.0449</td>\n",
       "      <td>129.018</td>\n",
       "      <td>260187</td>\n",
       "    </tr>\n",
       "    <tr>\n",
       "      <th>13086</th>\n",
       "      <td>0.311</td>\n",
       "      <td>0.1580</td>\n",
       "      <td>-16.724</td>\n",
       "      <td>0.0380</td>\n",
       "      <td>0.9690</td>\n",
       "      <td>0.901000</td>\n",
       "      <td>0.2400</td>\n",
       "      <td>0.1700</td>\n",
       "      <td>96.367</td>\n",
       "      <td>427653</td>\n",
       "    </tr>\n",
       "    <tr>\n",
       "      <th>13087</th>\n",
       "      <td>0.456</td>\n",
       "      <td>0.1090</td>\n",
       "      <td>-20.268</td>\n",
       "      <td>0.0604</td>\n",
       "      <td>0.9940</td>\n",
       "      <td>0.000266</td>\n",
       "      <td>0.0836</td>\n",
       "      <td>0.2400</td>\n",
       "      <td>68.848</td>\n",
       "      <td>201640</td>\n",
       "    </tr>\n",
       "    <tr>\n",
       "      <th>13088</th>\n",
       "      <td>0.362</td>\n",
       "      <td>0.0617</td>\n",
       "      <td>-24.588</td>\n",
       "      <td>0.0379</td>\n",
       "      <td>0.9910</td>\n",
       "      <td>0.916000</td>\n",
       "      <td>0.1710</td>\n",
       "      <td>0.3920</td>\n",
       "      <td>93.635</td>\n",
       "      <td>234987</td>\n",
       "    </tr>\n",
       "  </tbody>\n",
       "</table>\n",
       "<p>13089 rows × 10 columns</p>\n",
       "</div>"
      ],
      "text/plain": [
       "       danceability  energy  loudness  speechiness  acousticness  \\\n",
       "0             0.696  0.8090    -8.254       0.0500        0.2520   \n",
       "1             0.707  0.6810    -4.325       0.0668        0.0632   \n",
       "2             0.644  0.7350    -5.747       0.0391        0.0521   \n",
       "3             0.538  0.7420    -5.355       0.1140        0.1380   \n",
       "4             0.715  0.6200    -6.005       0.0484        0.4170   \n",
       "...             ...     ...       ...          ...           ...   \n",
       "13084         0.261  0.0585   -22.054       0.0473        0.9870   \n",
       "13085         0.322  0.1290   -20.671       0.0437        0.9920   \n",
       "13086         0.311  0.1580   -16.724       0.0380        0.9690   \n",
       "13087         0.456  0.1090   -20.268       0.0604        0.9940   \n",
       "13088         0.362  0.0617   -24.588       0.0379        0.9910   \n",
       "\n",
       "       instrumentalness  liveness  valence    tempo  duration_ms  \n",
       "0              0.000128    0.2480   0.8570  132.962       131013  \n",
       "1              0.000005    0.0322   0.6460  117.999       200455  \n",
       "2              0.144000    0.1610   0.4180   88.980       153947  \n",
       "3              0.000047    0.0934   0.2500   96.107       272373  \n",
       "4              0.000000    0.0822   0.1720   97.950       221520  \n",
       "...                 ...       ...      ...      ...          ...  \n",
       "13084          0.872000    0.0887   0.1380   67.242       439213  \n",
       "13085          0.003620    0.1010   0.0449  129.018       260187  \n",
       "13086          0.901000    0.2400   0.1700   96.367       427653  \n",
       "13087          0.000266    0.0836   0.2400   68.848       201640  \n",
       "13088          0.916000    0.1710   0.3920   93.635       234987  \n",
       "\n",
       "[13089 rows x 10 columns]"
      ]
     },
     "execution_count": 2,
     "metadata": {},
     "output_type": "execute_result"
    }
   ],
   "source": [
    "df = pd.read_csv('df_cleaned_2.csv')\n",
    "X = df.drop(columns=['id'])\n",
    "X"
   ]
  },
  {
   "cell_type": "markdown",
   "metadata": {
    "id": "jKnoCN1MgG6B"
   },
   "source": [
    "## Scaling features"
   ]
  },
  {
   "cell_type": "code",
   "execution_count": 3,
   "metadata": {
    "colab": {
     "base_uri": "https://localhost:8080/",
     "height": 319
    },
    "executionInfo": {
     "elapsed": 226,
     "status": "ok",
     "timestamp": 1623847356617,
     "user": {
      "displayName": "Ignacio Soteras",
      "photoUrl": "",
      "userId": "02050793736257155229"
     },
     "user_tz": -120
    },
    "id": "HwrUhwwcgRkP",
    "outputId": "006111e0-116d-4087-aaca-88219c7567de"
   },
   "outputs": [
    {
     "data": {
      "text/html": [
       "<div>\n",
       "<style scoped>\n",
       "    .dataframe tbody tr th:only-of-type {\n",
       "        vertical-align: middle;\n",
       "    }\n",
       "\n",
       "    .dataframe tbody tr th {\n",
       "        vertical-align: top;\n",
       "    }\n",
       "\n",
       "    .dataframe thead th {\n",
       "        text-align: right;\n",
       "    }\n",
       "</style>\n",
       "<table border=\"1\" class=\"dataframe\">\n",
       "  <thead>\n",
       "    <tr style=\"text-align: right;\">\n",
       "      <th></th>\n",
       "      <th>danceability</th>\n",
       "      <th>energy</th>\n",
       "      <th>loudness</th>\n",
       "      <th>speechiness</th>\n",
       "      <th>acousticness</th>\n",
       "      <th>instrumentalness</th>\n",
       "      <th>liveness</th>\n",
       "      <th>valence</th>\n",
       "      <th>tempo</th>\n",
       "      <th>duration_ms</th>\n",
       "    </tr>\n",
       "  </thead>\n",
       "  <tbody>\n",
       "    <tr>\n",
       "      <th>count</th>\n",
       "      <td>13089.000000</td>\n",
       "      <td>13089.000000</td>\n",
       "      <td>13089.000000</td>\n",
       "      <td>13089.000000</td>\n",
       "      <td>13089.000000</td>\n",
       "      <td>13089.000000</td>\n",
       "      <td>13089.000000</td>\n",
       "      <td>13089.000000</td>\n",
       "      <td>13089.000000</td>\n",
       "      <td>1.308900e+04</td>\n",
       "    </tr>\n",
       "    <tr>\n",
       "      <th>mean</th>\n",
       "      <td>0.550586</td>\n",
       "      <td>0.607515</td>\n",
       "      <td>-9.643646</td>\n",
       "      <td>0.078745</td>\n",
       "      <td>0.301252</td>\n",
       "      <td>0.212770</td>\n",
       "      <td>0.182755</td>\n",
       "      <td>0.425704</td>\n",
       "      <td>120.675796</td>\n",
       "      <td>2.375420e+05</td>\n",
       "    </tr>\n",
       "    <tr>\n",
       "      <th>std</th>\n",
       "      <td>0.186284</td>\n",
       "      <td>0.288065</td>\n",
       "      <td>7.190513</td>\n",
       "      <td>0.084970</td>\n",
       "      <td>0.361625</td>\n",
       "      <td>0.345503</td>\n",
       "      <td>0.147440</td>\n",
       "      <td>0.257481</td>\n",
       "      <td>28.783260</td>\n",
       "      <td>1.237578e+05</td>\n",
       "    </tr>\n",
       "    <tr>\n",
       "      <th>min</th>\n",
       "      <td>0.000000</td>\n",
       "      <td>0.000568</td>\n",
       "      <td>-44.150000</td>\n",
       "      <td>0.000000</td>\n",
       "      <td>0.000001</td>\n",
       "      <td>0.000000</td>\n",
       "      <td>0.010400</td>\n",
       "      <td>0.000000</td>\n",
       "      <td>0.000000</td>\n",
       "      <td>1.740000e+04</td>\n",
       "    </tr>\n",
       "    <tr>\n",
       "      <th>25%</th>\n",
       "      <td>0.427000</td>\n",
       "      <td>0.436000</td>\n",
       "      <td>-10.890000</td>\n",
       "      <td>0.036900</td>\n",
       "      <td>0.011900</td>\n",
       "      <td>0.000001</td>\n",
       "      <td>0.094300</td>\n",
       "      <td>0.206000</td>\n",
       "      <td>98.996000</td>\n",
       "      <td>1.757500e+05</td>\n",
       "    </tr>\n",
       "    <tr>\n",
       "      <th>50%</th>\n",
       "      <td>0.565000</td>\n",
       "      <td>0.683000</td>\n",
       "      <td>-7.059000</td>\n",
       "      <td>0.047300</td>\n",
       "      <td>0.107000</td>\n",
       "      <td>0.000698</td>\n",
       "      <td>0.122000</td>\n",
       "      <td>0.405000</td>\n",
       "      <td>122.787000</td>\n",
       "      <td>2.102070e+05</td>\n",
       "    </tr>\n",
       "    <tr>\n",
       "      <th>75%</th>\n",
       "      <td>0.689000</td>\n",
       "      <td>0.842000</td>\n",
       "      <td>-5.073000</td>\n",
       "      <td>0.077200</td>\n",
       "      <td>0.559000</td>\n",
       "      <td>0.346000</td>\n",
       "      <td>0.225000</td>\n",
       "      <td>0.623000</td>\n",
       "      <td>137.987000</td>\n",
       "      <td>2.573570e+05</td>\n",
       "    </tr>\n",
       "    <tr>\n",
       "      <th>max</th>\n",
       "      <td>0.975000</td>\n",
       "      <td>1.000000</td>\n",
       "      <td>1.511000</td>\n",
       "      <td>0.960000</td>\n",
       "      <td>0.996000</td>\n",
       "      <td>0.995000</td>\n",
       "      <td>0.985000</td>\n",
       "      <td>0.985000</td>\n",
       "      <td>219.446000</td>\n",
       "      <td>4.170227e+06</td>\n",
       "    </tr>\n",
       "  </tbody>\n",
       "</table>\n",
       "</div>"
      ],
      "text/plain": [
       "       danceability        energy      loudness   speechiness  acousticness  \\\n",
       "count  13089.000000  13089.000000  13089.000000  13089.000000  13089.000000   \n",
       "mean       0.550586      0.607515     -9.643646      0.078745      0.301252   \n",
       "std        0.186284      0.288065      7.190513      0.084970      0.361625   \n",
       "min        0.000000      0.000568    -44.150000      0.000000      0.000001   \n",
       "25%        0.427000      0.436000    -10.890000      0.036900      0.011900   \n",
       "50%        0.565000      0.683000     -7.059000      0.047300      0.107000   \n",
       "75%        0.689000      0.842000     -5.073000      0.077200      0.559000   \n",
       "max        0.975000      1.000000      1.511000      0.960000      0.996000   \n",
       "\n",
       "       instrumentalness      liveness       valence         tempo  \\\n",
       "count      13089.000000  13089.000000  13089.000000  13089.000000   \n",
       "mean           0.212770      0.182755      0.425704    120.675796   \n",
       "std            0.345503      0.147440      0.257481     28.783260   \n",
       "min            0.000000      0.010400      0.000000      0.000000   \n",
       "25%            0.000001      0.094300      0.206000     98.996000   \n",
       "50%            0.000698      0.122000      0.405000    122.787000   \n",
       "75%            0.346000      0.225000      0.623000    137.987000   \n",
       "max            0.995000      0.985000      0.985000    219.446000   \n",
       "\n",
       "        duration_ms  \n",
       "count  1.308900e+04  \n",
       "mean   2.375420e+05  \n",
       "std    1.237578e+05  \n",
       "min    1.740000e+04  \n",
       "25%    1.757500e+05  \n",
       "50%    2.102070e+05  \n",
       "75%    2.573570e+05  \n",
       "max    4.170227e+06  "
      ]
     },
     "execution_count": 3,
     "metadata": {},
     "output_type": "execute_result"
    }
   ],
   "source": [
    "X.describe()"
   ]
  },
  {
   "cell_type": "code",
   "execution_count": 4,
   "metadata": {
    "colab": {
     "base_uri": "https://localhost:8080/",
     "height": 431
    },
    "executionInfo": {
     "elapsed": 206,
     "status": "ok",
     "timestamp": 1623847766918,
     "user": {
      "displayName": "Ignacio Soteras",
      "photoUrl": "",
      "userId": "02050793736257155229"
     },
     "user_tz": -120
    },
    "id": "8V86cFdpgJrd",
    "outputId": "b3a8d5a2-a380-4545-a06e-a6487daf3601",
    "scrolled": false
   },
   "outputs": [
    {
     "data": {
      "text/html": [
       "<div>\n",
       "<style scoped>\n",
       "    .dataframe tbody tr th:only-of-type {\n",
       "        vertical-align: middle;\n",
       "    }\n",
       "\n",
       "    .dataframe tbody tr th {\n",
       "        vertical-align: top;\n",
       "    }\n",
       "\n",
       "    .dataframe thead th {\n",
       "        text-align: right;\n",
       "    }\n",
       "</style>\n",
       "<table border=\"1\" class=\"dataframe\">\n",
       "  <thead>\n",
       "    <tr style=\"text-align: right;\">\n",
       "      <th></th>\n",
       "      <th>danceability</th>\n",
       "      <th>energy</th>\n",
       "      <th>loudness</th>\n",
       "      <th>speechiness</th>\n",
       "      <th>acousticness</th>\n",
       "      <th>instrumentalness</th>\n",
       "      <th>liveness</th>\n",
       "      <th>valence</th>\n",
       "      <th>tempo</th>\n",
       "      <th>duration_ms</th>\n",
       "    </tr>\n",
       "  </thead>\n",
       "  <tbody>\n",
       "    <tr>\n",
       "      <th>0</th>\n",
       "      <td>0.696</td>\n",
       "      <td>0.809</td>\n",
       "      <td>-8.254</td>\n",
       "      <td>0.0500</td>\n",
       "      <td>0.2520</td>\n",
       "      <td>0.000128</td>\n",
       "      <td>0.2480</td>\n",
       "      <td>0.857</td>\n",
       "      <td>132.962</td>\n",
       "      <td>131013</td>\n",
       "    </tr>\n",
       "    <tr>\n",
       "      <th>1</th>\n",
       "      <td>0.707</td>\n",
       "      <td>0.681</td>\n",
       "      <td>-4.325</td>\n",
       "      <td>0.0668</td>\n",
       "      <td>0.0632</td>\n",
       "      <td>0.000005</td>\n",
       "      <td>0.0322</td>\n",
       "      <td>0.646</td>\n",
       "      <td>117.999</td>\n",
       "      <td>200455</td>\n",
       "    </tr>\n",
       "    <tr>\n",
       "      <th>2</th>\n",
       "      <td>0.644</td>\n",
       "      <td>0.735</td>\n",
       "      <td>-5.747</td>\n",
       "      <td>0.0391</td>\n",
       "      <td>0.0521</td>\n",
       "      <td>0.144000</td>\n",
       "      <td>0.1610</td>\n",
       "      <td>0.418</td>\n",
       "      <td>88.980</td>\n",
       "      <td>153947</td>\n",
       "    </tr>\n",
       "    <tr>\n",
       "      <th>3</th>\n",
       "      <td>0.538</td>\n",
       "      <td>0.742</td>\n",
       "      <td>-5.355</td>\n",
       "      <td>0.1140</td>\n",
       "      <td>0.1380</td>\n",
       "      <td>0.000047</td>\n",
       "      <td>0.0934</td>\n",
       "      <td>0.250</td>\n",
       "      <td>96.107</td>\n",
       "      <td>272373</td>\n",
       "    </tr>\n",
       "    <tr>\n",
       "      <th>4</th>\n",
       "      <td>0.715</td>\n",
       "      <td>0.620</td>\n",
       "      <td>-6.005</td>\n",
       "      <td>0.0484</td>\n",
       "      <td>0.4170</td>\n",
       "      <td>0.000000</td>\n",
       "      <td>0.0822</td>\n",
       "      <td>0.172</td>\n",
       "      <td>97.950</td>\n",
       "      <td>221520</td>\n",
       "    </tr>\n",
       "  </tbody>\n",
       "</table>\n",
       "</div>"
      ],
      "text/plain": [
       "   danceability  energy  loudness  speechiness  acousticness  \\\n",
       "0         0.696   0.809    -8.254       0.0500        0.2520   \n",
       "1         0.707   0.681    -4.325       0.0668        0.0632   \n",
       "2         0.644   0.735    -5.747       0.0391        0.0521   \n",
       "3         0.538   0.742    -5.355       0.1140        0.1380   \n",
       "4         0.715   0.620    -6.005       0.0484        0.4170   \n",
       "\n",
       "   instrumentalness  liveness  valence    tempo  duration_ms  \n",
       "0          0.000128    0.2480    0.857  132.962       131013  \n",
       "1          0.000005    0.0322    0.646  117.999       200455  \n",
       "2          0.144000    0.1610    0.418   88.980       153947  \n",
       "3          0.000047    0.0934    0.250   96.107       272373  \n",
       "4          0.000000    0.0822    0.172   97.950       221520  "
      ]
     },
     "metadata": {},
     "output_type": "display_data"
    },
    {
     "name": "stdout",
     "output_type": "stream",
     "text": [
      "\n"
     ]
    },
    {
     "data": {
      "text/html": [
       "<div>\n",
       "<style scoped>\n",
       "    .dataframe tbody tr th:only-of-type {\n",
       "        vertical-align: middle;\n",
       "    }\n",
       "\n",
       "    .dataframe tbody tr th {\n",
       "        vertical-align: top;\n",
       "    }\n",
       "\n",
       "    .dataframe thead th {\n",
       "        text-align: right;\n",
       "    }\n",
       "</style>\n",
       "<table border=\"1\" class=\"dataframe\">\n",
       "  <thead>\n",
       "    <tr style=\"text-align: right;\">\n",
       "      <th></th>\n",
       "      <th>danceability</th>\n",
       "      <th>energy</th>\n",
       "      <th>loudness</th>\n",
       "      <th>speechiness</th>\n",
       "      <th>acousticness</th>\n",
       "      <th>instrumentalness</th>\n",
       "      <th>liveness</th>\n",
       "      <th>valence</th>\n",
       "      <th>tempo</th>\n",
       "      <th>duration_ms</th>\n",
       "    </tr>\n",
       "  </thead>\n",
       "  <tbody>\n",
       "    <tr>\n",
       "      <th>0</th>\n",
       "      <td>0.780636</td>\n",
       "      <td>0.699469</td>\n",
       "      <td>0.193268</td>\n",
       "      <td>-0.338313</td>\n",
       "      <td>-0.136201</td>\n",
       "      <td>-0.615478</td>\n",
       "      <td>0.442539</td>\n",
       "      <td>1.675119</td>\n",
       "      <td>0.426869</td>\n",
       "      <td>-0.860819</td>\n",
       "    </tr>\n",
       "    <tr>\n",
       "      <th>1</th>\n",
       "      <td>0.839688</td>\n",
       "      <td>0.255107</td>\n",
       "      <td>0.739704</td>\n",
       "      <td>-0.140589</td>\n",
       "      <td>-0.658310</td>\n",
       "      <td>-0.615834</td>\n",
       "      <td>-1.021164</td>\n",
       "      <td>0.855611</td>\n",
       "      <td>-0.093002</td>\n",
       "      <td>-0.299685</td>\n",
       "    </tr>\n",
       "    <tr>\n",
       "      <th>2</th>\n",
       "      <td>0.501481</td>\n",
       "      <td>0.442572</td>\n",
       "      <td>0.541936</td>\n",
       "      <td>-0.466598</td>\n",
       "      <td>-0.689006</td>\n",
       "      <td>-0.199050</td>\n",
       "      <td>-0.147554</td>\n",
       "      <td>-0.029924</td>\n",
       "      <td>-1.101231</td>\n",
       "      <td>-0.675498</td>\n",
       "    </tr>\n",
       "    <tr>\n",
       "      <th>3</th>\n",
       "      <td>-0.067564</td>\n",
       "      <td>0.466873</td>\n",
       "      <td>0.596454</td>\n",
       "      <td>0.414922</td>\n",
       "      <td>-0.451457</td>\n",
       "      <td>-0.615714</td>\n",
       "      <td>-0.606064</td>\n",
       "      <td>-0.682423</td>\n",
       "      <td>-0.853612</td>\n",
       "      <td>0.281456</td>\n",
       "    </tr>\n",
       "    <tr>\n",
       "      <th>4</th>\n",
       "      <td>0.882635</td>\n",
       "      <td>0.043341</td>\n",
       "      <td>0.506054</td>\n",
       "      <td>-0.357144</td>\n",
       "      <td>0.320091</td>\n",
       "      <td>-0.615849</td>\n",
       "      <td>-0.682030</td>\n",
       "      <td>-0.985369</td>\n",
       "      <td>-0.789579</td>\n",
       "      <td>-0.129467</td>\n",
       "    </tr>\n",
       "  </tbody>\n",
       "</table>\n",
       "</div>"
      ],
      "text/plain": [
       "   danceability    energy  loudness  speechiness  acousticness  \\\n",
       "0      0.780636  0.699469  0.193268    -0.338313     -0.136201   \n",
       "1      0.839688  0.255107  0.739704    -0.140589     -0.658310   \n",
       "2      0.501481  0.442572  0.541936    -0.466598     -0.689006   \n",
       "3     -0.067564  0.466873  0.596454     0.414922     -0.451457   \n",
       "4      0.882635  0.043341  0.506054    -0.357144      0.320091   \n",
       "\n",
       "   instrumentalness  liveness   valence     tempo  duration_ms  \n",
       "0         -0.615478  0.442539  1.675119  0.426869    -0.860819  \n",
       "1         -0.615834 -1.021164  0.855611 -0.093002    -0.299685  \n",
       "2         -0.199050 -0.147554 -0.029924 -1.101231    -0.675498  \n",
       "3         -0.615714 -0.606064 -0.682423 -0.853612     0.281456  \n",
       "4         -0.615849 -0.682030 -0.985369 -0.789579    -0.129467  "
      ]
     },
     "metadata": {},
     "output_type": "display_data"
    }
   ],
   "source": [
    "scaler = StandardScaler()\n",
    "scaler.fit(X)\n",
    "X_scaled = scaler.transform(X)\n",
    "X_scaled_df = pd.DataFrame(X_scaled, columns = X.columns)\n",
    "display(X.head())\n",
    "print()\n",
    "display(X_scaled_df.head())"
   ]
  },
  {
   "cell_type": "raw",
   "metadata": {
    "colab": {
     "base_uri": "https://localhost:8080/",
     "height": 319
    },
    "executionInfo": {
     "elapsed": 221,
     "status": "ok",
     "timestamp": 1623847821073,
     "user": {
      "displayName": "Ignacio Soteras",
      "photoUrl": "",
      "userId": "02050793736257155229"
     },
     "user_tz": -120
    },
    "id": "INQdugXS3zPO",
    "outputId": "cc49e206-ecd0-4804-c96f-86f159b6b9cf"
   },
   "source": [
    "X_scaled_df.describe()"
   ]
  },
  {
   "cell_type": "markdown",
   "metadata": {
    "id": "1XaQQHyJghB8"
   },
   "source": [
    "Now, all features will have the same weight."
   ]
  },
  {
   "cell_type": "markdown",
   "metadata": {
    "id": "77b-H29dnlLP"
   },
   "source": [
    "## Chosing K"
   ]
  },
  {
   "cell_type": "raw",
   "metadata": {
    "colab": {
     "base_uri": "https://localhost:8080/",
     "height": 1000
    },
    "executionInfo": {
     "elapsed": 2117,
     "status": "ok",
     "timestamp": 1623849240010,
     "user": {
      "displayName": "Ignacio Soteras",
      "photoUrl": "",
      "userId": "02050793736257155229"
     },
     "user_tz": -120
    },
    "id": "g69gpyLSnqVS",
    "outputId": "5eff7e09-1033-499e-ca86-a5b49f356400"
   },
   "source": [
    "K = range(2, 22)\n",
    "inertia = []\n",
    "\n",
    "for k in K:\n",
    "    print(\"Training a K-Means model with {} clusters! \".format(k))\n",
    "    print()\n",
    "    kmeans = KMeans(n_clusters=k,\n",
    "                    random_state=1234)\n",
    "    kmeans.fit(X_scaled_df)\n",
    "    inertia.append(kmeans.inertia_)\n",
    "\n",
    "import numpy as np\n",
    "import matplotlib.pyplot as plt\n",
    "%matplotlib inline\n",
    "\n",
    "plt.figure(figsize=(16,8))\n",
    "plt.plot(K, inertia, 'bx-')\n",
    "plt.xlabel('k')\n",
    "plt.ylabel('inertia')\n",
    "plt.xticks(np.arange(min(K), max(K)+1, 1.0))\n",
    "plt.title('Elbow Method showing the optimal k')"
   ]
  },
  {
   "cell_type": "markdown",
   "metadata": {
    "id": "shXQmFxLpVU8"
   },
   "source": [
    "## Silouhette"
   ]
  },
  {
   "cell_type": "code",
   "execution_count": 5,
   "metadata": {
    "colab": {
     "base_uri": "https://localhost:8080/",
     "height": 530
    },
    "executionInfo": {
     "elapsed": 2352,
     "status": "ok",
     "timestamp": 1623849582213,
     "user": {
      "displayName": "Ignacio Soteras",
      "photoUrl": "",
      "userId": "02050793736257155229"
     },
     "user_tz": -120
    },
    "id": "c4qvvkaOvqjr",
    "outputId": "96b4dea1-2977-4916-c92c-d9090a6886aa",
    "scrolled": true
   },
   "outputs": [
    {
     "name": "stdout",
     "output_type": "stream",
     "text": [
      "Training a K-Means model with 2 clusters! \n",
      "\n",
      "Training a K-Means model with 3 clusters! \n",
      "\n",
      "Training a K-Means model with 4 clusters! \n",
      "\n",
      "Training a K-Means model with 5 clusters! \n",
      "\n",
      "Training a K-Means model with 6 clusters! \n",
      "\n",
      "Training a K-Means model with 7 clusters! \n",
      "\n",
      "Training a K-Means model with 8 clusters! \n",
      "\n",
      "Training a K-Means model with 9 clusters! \n",
      "\n",
      "Training a K-Means model with 10 clusters! \n",
      "\n",
      "Training a K-Means model with 11 clusters! \n",
      "\n",
      "Training a K-Means model with 12 clusters! \n",
      "\n",
      "Training a K-Means model with 13 clusters! \n",
      "\n",
      "Training a K-Means model with 14 clusters! \n",
      "\n",
      "Training a K-Means model with 15 clusters! \n",
      "\n",
      "Training a K-Means model with 16 clusters! \n",
      "\n",
      "Training a K-Means model with 17 clusters! \n",
      "\n",
      "Training a K-Means model with 18 clusters! \n",
      "\n",
      "Training a K-Means model with 19 clusters! \n",
      "\n",
      "Training a K-Means model with 20 clusters! \n",
      "\n",
      "Training a K-Means model with 21 clusters! \n",
      "\n"
     ]
    },
    {
     "data": {
      "text/plain": [
       "Text(0.5, 1.0, 'Silhouette Method showing the optimal k')"
      ]
     },
     "execution_count": 5,
     "metadata": {},
     "output_type": "execute_result"
    },
    {
     "data": {
      "image/png": "[encoded data removed]",
      "text/plain": [
       "<Figure size 1600x800 with 1 Axes>"
      ]
     },
     "metadata": {},
     "output_type": "display_data"
    }
   ],
   "source": [
    "K = range(2, 22)\n",
    "silhouette = []\n",
    "\n",
    "for k in K:\n",
    "    print(\"Training a K-Means model with {} clusters! \".format(k))\n",
    "    print()\n",
    "    kmeans = KMeans(n_clusters=k,\n",
    "                    random_state=1234)\n",
    "    kmeans.fit(X_scaled_df)\n",
    "    \n",
    "    filename = \"Model/kmeans_\" + str(k) + \".pickle\"\n",
    "    with open(filename, \"wb\") as f:\n",
    "        pickle.dump(kmeans,f)\n",
    "    \n",
    "    silhouette.append(silhouette_score(X_scaled_df, kmeans.predict(X_scaled_df)))\n",
    "\n",
    "\n",
    "plt.figure(figsize=(16,8))\n",
    "plt.plot(K, silhouette, 'bx-')\n",
    "plt.xlabel('k')\n",
    "plt.ylabel('silhouette score')\n",
    "plt.xticks(np.arange(min(K), max(K)+1, 1.0))\n",
    "plt.title('Silhouette Method showing the optimal k')"
   ]
  },
  {
   "cell_type": "markdown",
   "metadata": {
    "id": "TmE9ES1EwPhL"
   },
   "source": [
    "The greater the Silouhette, the greater the separation between the clusters, In other words, the clusters will be more defined."
   ]
  },
  {
   "cell_type": "markdown",
   "metadata": {
    "id": "W8zgKxQKhBUr"
   },
   "source": [
    "## Clustering the songs with K-Means"
   ]
  },
  {
   "cell_type": "code",
   "execution_count": 6,
   "metadata": {
    "colab": {
     "base_uri": "https://localhost:8080/"
    },
    "executionInfo": {
     "elapsed": 208,
     "status": "ok",
     "timestamp": 1623848315608,
     "user": {
      "displayName": "Ignacio Soteras",
      "photoUrl": "",
      "userId": "02050793736257155229"
     },
     "user_tz": -120
    },
    "id": "qS4o_tT1hGAG",
    "outputId": "eecc7527-b3df-4576-f931-881e198c2166"
   },
   "outputs": [
    {
     "data": {
      "text/plain": [
       "KMeans(random_state=1234)"
      ]
     },
     "execution_count": 6,
     "metadata": {},
     "output_type": "execute_result"
    }
   ],
   "source": [
    "kmeans = KMeans(n_clusters=8, random_state=1234)\n",
    "kmeans.fit(X_scaled_df)"
   ]
  },
  {
   "cell_type": "raw",
   "metadata": {},
   "source": [
    "kmeans.labels_"
   ]
  },
  {
   "cell_type": "code",
   "execution_count": 7,
   "metadata": {},
   "outputs": [
    {
     "data": {
      "image/png": "[encoded data removed]",
      "text/plain": [
       "<Figure size 640x480 with 1 Axes>"
      ]
     },
     "metadata": {},
     "output_type": "display_data"
    }
   ],
   "source": [
    "# assign a cluster to each example\n",
    "labels = kmeans.predict(X_scaled_df)\n",
    "# retrieve unique clusters\n",
    "clusters = np.unique(labels)\n",
    "# create scatter plot for samples from each cluster\n",
    "for cluster in clusters:\n",
    "    # get row indexes for samples with this cluster\n",
    "    row_ix = np.where(labels == cluster)\n",
    "    # create scatter of these samples\n",
    "    pyplot.scatter(X.to_numpy()[row_ix, 1], X.to_numpy()[row_ix, 3])\n",
    "    # show the plot\n",
    "pyplot.show()"
   ]
  },
  {
   "cell_type": "markdown",
   "metadata": {
    "id": "27Ab6CkAhoOT"
   },
   "source": [
    "Now we have our \"model\", let's get the clusters and how many observations has each cluster."
   ]
  },
  {
   "cell_type": "code",
   "execution_count": 8,
   "metadata": {
    "colab": {
     "base_uri": "https://localhost:8080/"
    },
    "executionInfo": {
     "elapsed": 280,
     "status": "ok",
     "timestamp": 1623848518689,
     "user": {
      "displayName": "Ignacio Soteras",
      "photoUrl": "",
      "userId": "02050793736257155229"
     },
     "user_tz": -120
    },
    "id": "jHfWQSmth9yR",
    "outputId": "d952adf3-9ced-4a61-dc93-14ed804a4fe1"
   },
   "outputs": [
    {
     "data": {
      "text/plain": [
       "0    1663\n",
       "1     844\n",
       "2    1686\n",
       "3     906\n",
       "4    2895\n",
       "5    1335\n",
       "6     382\n",
       "7    3378\n",
       "dtype: int64"
      ]
     },
     "execution_count": 8,
     "metadata": {},
     "output_type": "execute_result"
    }
   ],
   "source": [
    "clusters = kmeans.predict(X_scaled_df)\n",
    "#clusters\n",
    "pd.Series(clusters).value_counts().sort_index()"
   ]
  },
  {
   "cell_type": "markdown",
   "metadata": {},
   "source": [
    "after checking, it appears that cat.6 is spoken word content while cat.7 is mostly live concerts"
   ]
  },
  {
   "cell_type": "markdown",
   "metadata": {
    "id": "R7K3uJuPimcS"
   },
   "source": [
    "Now let's see to which group was assigned every song."
   ]
  },
  {
   "cell_type": "code",
   "execution_count": 9,
   "metadata": {
    "colab": {
     "base_uri": "https://localhost:8080/",
     "height": 225
    },
    "executionInfo": {
     "elapsed": 234,
     "status": "ok",
     "timestamp": 1623848601645,
     "user": {
      "displayName": "Ignacio Soteras",
      "photoUrl": "",
      "userId": "02050793736257155229"
     },
     "user_tz": -120
    },
    "id": "RmWPL4DjiyIP",
    "outputId": "b1a15218-8112-4e6f-c87a-f6e4a972080d"
   },
   "outputs": [],
   "source": [
    "#X_df = pd.DataFrame(X)\n",
    "X[\"cluster\"] = clusters"
   ]
  },
  {
   "cell_type": "markdown",
   "metadata": {},
   "source": [
    "## Now adding back the ID column"
   ]
  },
  {
   "cell_type": "code",
   "execution_count": 10,
   "metadata": {},
   "outputs": [],
   "source": [
    "X[\"id\"] = df.id"
   ]
  },
  {
   "cell_type": "code",
   "execution_count": 11,
   "metadata": {
    "colab": {
     "base_uri": "https://localhost:8080/",
     "height": 101
    },
    "executionInfo": {
     "elapsed": 206,
     "status": "ok",
     "timestamp": 1623848706129,
     "user": {
      "displayName": "Ignacio Soteras",
      "photoUrl": "",
      "userId": "02050793736257155229"
     },
     "user_tz": -120
    },
    "id": "cTlD0Mrl68mp",
    "outputId": "7fab6ffe-65d9-4304-ede3-6c0e034ddca5"
   },
   "outputs": [
    {
     "data": {
      "text/html": [
       "<div>\n",
       "<style scoped>\n",
       "    .dataframe tbody tr th:only-of-type {\n",
       "        vertical-align: middle;\n",
       "    }\n",
       "\n",
       "    .dataframe tbody tr th {\n",
       "        vertical-align: top;\n",
       "    }\n",
       "\n",
       "    .dataframe thead th {\n",
       "        text-align: right;\n",
       "    }\n",
       "</style>\n",
       "<table border=\"1\" class=\"dataframe\">\n",
       "  <thead>\n",
       "    <tr style=\"text-align: right;\">\n",
       "      <th></th>\n",
       "      <th>danceability</th>\n",
       "      <th>energy</th>\n",
       "      <th>loudness</th>\n",
       "      <th>speechiness</th>\n",
       "      <th>acousticness</th>\n",
       "      <th>instrumentalness</th>\n",
       "      <th>liveness</th>\n",
       "      <th>valence</th>\n",
       "      <th>tempo</th>\n",
       "      <th>duration_ms</th>\n",
       "      <th>cluster</th>\n",
       "      <th>id</th>\n",
       "    </tr>\n",
       "  </thead>\n",
       "  <tbody>\n",
       "    <tr>\n",
       "      <th>4818</th>\n",
       "      <td>0.120</td>\n",
       "      <td>0.8700</td>\n",
       "      <td>-6.984</td>\n",
       "      <td>0.0995</td>\n",
       "      <td>0.0018</td>\n",
       "      <td>0.815</td>\n",
       "      <td>0.0834</td>\n",
       "      <td>0.0536</td>\n",
       "      <td>179.815</td>\n",
       "      <td>950210</td>\n",
       "      <td>6</td>\n",
       "      <td>0y15BMv8TXeAUsDhWIGQFl</td>\n",
       "    </tr>\n",
       "    <tr>\n",
       "      <th>7923</th>\n",
       "      <td>0.114</td>\n",
       "      <td>0.2580</td>\n",
       "      <td>-14.626</td>\n",
       "      <td>0.0345</td>\n",
       "      <td>0.8070</td>\n",
       "      <td>0.803</td>\n",
       "      <td>0.1800</td>\n",
       "      <td>0.0733</td>\n",
       "      <td>89.151</td>\n",
       "      <td>530894</td>\n",
       "      <td>6</td>\n",
       "      <td>5i0EqAX50KcKNgMDMHZndM</td>\n",
       "    </tr>\n",
       "    <tr>\n",
       "      <th>7964</th>\n",
       "      <td>0.452</td>\n",
       "      <td>0.1730</td>\n",
       "      <td>-24.666</td>\n",
       "      <td>0.0354</td>\n",
       "      <td>0.9630</td>\n",
       "      <td>0.894</td>\n",
       "      <td>0.0709</td>\n",
       "      <td>0.0722</td>\n",
       "      <td>157.801</td>\n",
       "      <td>1622576</td>\n",
       "      <td>6</td>\n",
       "      <td>7Gb3UUUaX0A46FJUgXxily</td>\n",
       "    </tr>\n",
       "    <tr>\n",
       "      <th>9914</th>\n",
       "      <td>0.631</td>\n",
       "      <td>0.8600</td>\n",
       "      <td>-9.606</td>\n",
       "      <td>0.0542</td>\n",
       "      <td>0.1240</td>\n",
       "      <td>0.795</td>\n",
       "      <td>0.1130</td>\n",
       "      <td>0.0266</td>\n",
       "      <td>124.994</td>\n",
       "      <td>913920</td>\n",
       "      <td>6</td>\n",
       "      <td>17WOCrqWH5HKgz0sAn7My6</td>\n",
       "    </tr>\n",
       "    <tr>\n",
       "      <th>10751</th>\n",
       "      <td>0.867</td>\n",
       "      <td>0.3820</td>\n",
       "      <td>-13.842</td>\n",
       "      <td>0.1460</td>\n",
       "      <td>0.6300</td>\n",
       "      <td>0.489</td>\n",
       "      <td>0.0459</td>\n",
       "      <td>0.7120</td>\n",
       "      <td>121.545</td>\n",
       "      <td>721733</td>\n",
       "      <td>6</td>\n",
       "      <td>6N3qWKVTqM7BvpBp9JVd7i</td>\n",
       "    </tr>\n",
       "    <tr>\n",
       "      <th>...</th>\n",
       "      <td>...</td>\n",
       "      <td>...</td>\n",
       "      <td>...</td>\n",
       "      <td>...</td>\n",
       "      <td>...</td>\n",
       "      <td>...</td>\n",
       "      <td>...</td>\n",
       "      <td>...</td>\n",
       "      <td>...</td>\n",
       "      <td>...</td>\n",
       "      <td>...</td>\n",
       "      <td>...</td>\n",
       "    </tr>\n",
       "    <tr>\n",
       "      <th>13072</th>\n",
       "      <td>0.358</td>\n",
       "      <td>0.1570</td>\n",
       "      <td>-20.319</td>\n",
       "      <td>0.0482</td>\n",
       "      <td>0.9430</td>\n",
       "      <td>0.526</td>\n",
       "      <td>0.0735</td>\n",
       "      <td>0.2500</td>\n",
       "      <td>120.551</td>\n",
       "      <td>801000</td>\n",
       "      <td>6</td>\n",
       "      <td>7iqtk0DuSB3McFvAs6WQgp</td>\n",
       "    </tr>\n",
       "    <tr>\n",
       "      <th>13078</th>\n",
       "      <td>0.292</td>\n",
       "      <td>0.1130</td>\n",
       "      <td>-20.097</td>\n",
       "      <td>0.0392</td>\n",
       "      <td>0.9780</td>\n",
       "      <td>0.504</td>\n",
       "      <td>0.1080</td>\n",
       "      <td>0.1540</td>\n",
       "      <td>112.857</td>\n",
       "      <td>478547</td>\n",
       "      <td>6</td>\n",
       "      <td>5Nxjc7qVeZTcNv7lCNTiSS</td>\n",
       "    </tr>\n",
       "    <tr>\n",
       "      <th>13079</th>\n",
       "      <td>0.255</td>\n",
       "      <td>0.0588</td>\n",
       "      <td>-23.945</td>\n",
       "      <td>0.0430</td>\n",
       "      <td>0.9940</td>\n",
       "      <td>0.888</td>\n",
       "      <td>0.1220</td>\n",
       "      <td>0.0385</td>\n",
       "      <td>80.698</td>\n",
       "      <td>738560</td>\n",
       "      <td>6</td>\n",
       "      <td>3VwB9QamFLmYcBTm7bNKOE</td>\n",
       "    </tr>\n",
       "    <tr>\n",
       "      <th>13080</th>\n",
       "      <td>0.220</td>\n",
       "      <td>0.2170</td>\n",
       "      <td>-16.705</td>\n",
       "      <td>0.0366</td>\n",
       "      <td>0.8900</td>\n",
       "      <td>0.851</td>\n",
       "      <td>0.0942</td>\n",
       "      <td>0.1340</td>\n",
       "      <td>141.736</td>\n",
       "      <td>773000</td>\n",
       "      <td>6</td>\n",
       "      <td>5OQl6PCd6FxO7qfz6tMVGq</td>\n",
       "    </tr>\n",
       "    <tr>\n",
       "      <th>13081</th>\n",
       "      <td>0.304</td>\n",
       "      <td>0.1140</td>\n",
       "      <td>-21.629</td>\n",
       "      <td>0.0383</td>\n",
       "      <td>0.9930</td>\n",
       "      <td>0.894</td>\n",
       "      <td>0.6680</td>\n",
       "      <td>0.0420</td>\n",
       "      <td>74.422</td>\n",
       "      <td>808160</td>\n",
       "      <td>6</td>\n",
       "      <td>46g55JN50hOZNdaLH9s6VF</td>\n",
       "    </tr>\n",
       "  </tbody>\n",
       "</table>\n",
       "<p>382 rows × 12 columns</p>\n",
       "</div>"
      ],
      "text/plain": [
       "       danceability  energy  loudness  speechiness  acousticness  \\\n",
       "4818          0.120  0.8700    -6.984       0.0995        0.0018   \n",
       "7923          0.114  0.2580   -14.626       0.0345        0.8070   \n",
       "7964          0.452  0.1730   -24.666       0.0354        0.9630   \n",
       "9914          0.631  0.8600    -9.606       0.0542        0.1240   \n",
       "10751         0.867  0.3820   -13.842       0.1460        0.6300   \n",
       "...             ...     ...       ...          ...           ...   \n",
       "13072         0.358  0.1570   -20.319       0.0482        0.9430   \n",
       "13078         0.292  0.1130   -20.097       0.0392        0.9780   \n",
       "13079         0.255  0.0588   -23.945       0.0430        0.9940   \n",
       "13080         0.220  0.2170   -16.705       0.0366        0.8900   \n",
       "13081         0.304  0.1140   -21.629       0.0383        0.9930   \n",
       "\n",
       "       instrumentalness  liveness  valence    tempo  duration_ms  cluster  \\\n",
       "4818              0.815    0.0834   0.0536  179.815       950210        6   \n",
       "7923              0.803    0.1800   0.0733   89.151       530894        6   \n",
       "7964              0.894    0.0709   0.0722  157.801      1622576        6   \n",
       "9914              0.795    0.1130   0.0266  124.994       913920        6   \n",
       "10751             0.489    0.0459   0.7120  121.545       721733        6   \n",
       "...                 ...       ...      ...      ...          ...      ...   \n",
       "13072             0.526    0.0735   0.2500  120.551       801000        6   \n",
       "13078             0.504    0.1080   0.1540  112.857       478547        6   \n",
       "13079             0.888    0.1220   0.0385   80.698       738560        6   \n",
       "13080             0.851    0.0942   0.1340  141.736       773000        6   \n",
       "13081             0.894    0.6680   0.0420   74.422       808160        6   \n",
       "\n",
       "                           id  \n",
       "4818   0y15BMv8TXeAUsDhWIGQFl  \n",
       "7923   5i0EqAX50KcKNgMDMHZndM  \n",
       "7964   7Gb3UUUaX0A46FJUgXxily  \n",
       "9914   17WOCrqWH5HKgz0sAn7My6  \n",
       "10751  6N3qWKVTqM7BvpBp9JVd7i  \n",
       "...                       ...  \n",
       "13072  7iqtk0DuSB3McFvAs6WQgp  \n",
       "13078  5Nxjc7qVeZTcNv7lCNTiSS  \n",
       "13079  3VwB9QamFLmYcBTm7bNKOE  \n",
       "13080  5OQl6PCd6FxO7qfz6tMVGq  \n",
       "13081  46g55JN50hOZNdaLH9s6VF  \n",
       "\n",
       "[382 rows x 12 columns]"
      ]
     },
     "execution_count": 11,
     "metadata": {},
     "output_type": "execute_result"
    }
   ],
   "source": [
    "# R&B but also weird ballads\n",
    "X[X['cluster'] == 6]"
   ]
  },
  {
   "cell_type": "markdown",
   "metadata": {
    "id": "3NkfqPiJjb76"
   },
   "source": [
    "## Playing with the parameters"
   ]
  },
  {
   "cell_type": "markdown",
   "metadata": {
    "id": "O2KwLLpijvAw"
   },
   "source": [
    "**init**: those are the different initialization strategies. By default, sklearn is already using a 'smart' method, not the totally random one we saw.\n",
    "\n",
    "**n_init**: By default, Scikit-Learn has tried 10 different random initializations and kept the best model.\n",
    "\n",
    "[Scikitlearn Documentation](https://scikit-learn.org/stable/modules/generated/sklearn.cluster.KMeans.html)\n",
    "\n",
    "How does Scikit-Learn know which model is the best? It uses a performance metric called **inertia**. **It is the mean squared distance between each instance and its closest centroid**. It's stored in the inertia_ attribute of the model."
   ]
  },
  {
   "cell_type": "code",
   "execution_count": 12,
   "metadata": {
    "colab": {
     "base_uri": "https://localhost:8080/"
    },
    "executionInfo": {
     "elapsed": 228,
     "status": "ok",
     "timestamp": 1623848859464,
     "user": {
      "displayName": "Ignacio Soteras",
      "photoUrl": "",
      "userId": "02050793736257155229"
     },
     "user_tz": -120
    },
    "id": "IfB_M6fgkYrO",
    "outputId": "f7437ec0-2b22-4f65-ee9d-6e1efec6eda0"
   },
   "outputs": [
    {
     "data": {
      "text/plain": [
       "53418.41259455405"
      ]
     },
     "execution_count": 12,
     "metadata": {},
     "output_type": "execute_result"
    }
   ],
   "source": [
    "kmeans.inertia_"
   ]
  },
  {
   "cell_type": "markdown",
   "metadata": {
    "id": "FC1zC3e7kg-3"
   },
   "source": [
    "**max_iter**: It iterates up to 300 times by default (those are the re-computing centroids iterations we saw earlier)\n",
    "\n",
    "**tol**: This is a way to determine when to stop iterating (if the clusters have changed only veeeery slightly, we assume we have achieved 'convergence')\n",
    "\n",
    "**algorithm**: There are variations in the implementation of most algorithms and K-Means is no exception. By default, we're using a 'smart' implementation called elkan.\n",
    "\n",
    "For learning purposes, we will tweak the parameters to replicate the good ol' K-Means - a bit dumber than the Scikit-Learn, yes, but also the original."
   ]
  },
  {
   "cell_type": "code",
   "execution_count": null,
   "metadata": {
    "colab": {
     "base_uri": "https://localhost:8080/"
    },
    "executionInfo": {
     "elapsed": 228,
     "status": "ok",
     "timestamp": 1623848956571,
     "user": {
      "displayName": "Ignacio Soteras",
      "photoUrl": "",
      "userId": "02050793736257155229"
     },
     "user_tz": -120
    },
    "id": "mTUnGONElwzm",
    "outputId": "e2be9ff2-7612-4b3e-d091-203cae32721c"
   },
   "outputs": [],
   "source": [
    "kmeans2 = KMeans(n_clusters=3,\n",
    "                init=\"k-means++\",\n",
    "                n_init=50,  # try with 1, 4, 8, 20, 30, 100...\n",
    "                max_iter=4,\n",
    "                tol=0,\n",
    "                algorithm=\"elkan\",\n",
    "                random_state=1234)\n",
    "kmeans2.fit(X_scaled_df)\n",
    "print(kmeans2.inertia_)"
   ]
  },
  {
   "cell_type": "markdown",
   "metadata": {
    "id": "nSnuBHPro2xZ"
   },
   "source": [
    "There seems to be an elbow at **k=3**, and then a very slight one at k=10, but other than that the plot is quite smooth. What if our business needs involve having a k between 5 and 8?\n",
    "\n",
    "There is another metric that will help us decide."
   ]
  },
  {
   "cell_type": "markdown",
   "metadata": {},
   "source": [
    "<b> advanced (optional)"
   ]
  },
  {
   "cell_type": "code",
   "execution_count": null,
   "metadata": {},
   "outputs": [],
   "source": [
    "##conda install -c districtdatalabs yellowbrick"
   ]
  },
  {
   "cell_type": "code",
   "execution_count": null,
   "metadata": {},
   "outputs": [],
   "source": [
    "from yellowbrick.cluster import SilhouetteVisualizer\n",
    "model = KMeans(3, random_state=42)\n",
    "visualizer = SilhouetteVisualizer(model, colors='yellowbrick')\n",
    "visualizer.fit(X_scaled_df)        # Fit the data to the visualizer\n",
    "visualizer.show()        # Finalize and render the figure"
   ]
  },
  {
   "cell_type": "markdown",
   "metadata": {
    "id": "mvjmm52iw2xU"
   },
   "source": [
    "Here, we confirm that 3 is the best option, but we also notice that 5 a quite good - it meets the 'technical criteria' of having a better score than its predecessor (4), so if it falls within the range of our business demands - it looks like the best candidate."
   ]
  },
  {
   "cell_type": "markdown",
   "metadata": {
    "id": "rQ7S4T2TtKz1"
   },
   "source": [
    "# Saving with pickle"
   ]
  },
  {
   "cell_type": "code",
   "execution_count": null,
   "metadata": {
    "executionInfo": {
     "elapsed": 432,
     "status": "ok",
     "timestamp": 1623850976766,
     "user": {
      "displayName": "Ignacio Soteras",
      "photoUrl": "",
      "userId": "02050793736257155229"
     },
     "user_tz": -120
    },
    "id": "w0DBvROTtNRZ"
   },
   "outputs": [],
   "source": [
    "import pickle\n",
    "\n",
    "#scaler = StandardScaler()\n",
    "#model = KMeans()\n",
    "\n",
    "with open(\"Model/scaler.pickle\", \"wb\") as f:\n",
    "    pickle.dump(scaler,f)\n",
    "\n",
    "with open(\"Model/kmeans_4.pickle\", \"wb\") as f:\n",
    "    pickle.dump(kmeans,f)"
   ]
  },
  {
   "cell_type": "code",
   "execution_count": null,
   "metadata": {
    "executionInfo": {
     "elapsed": 202,
     "status": "ok",
     "timestamp": 1623850160602,
     "user": {
      "displayName": "Ignacio Soteras",
      "photoUrl": "",
      "userId": "02050793736257155229"
     },
     "user_tz": -120
    },
    "id": "PLfjcUzbu1FF"
   },
   "outputs": [],
   "source": [
    "def load(filename = \"filename.pickle\"): \n",
    "    try: \n",
    "        with open(filename, \"rb\") as f: \n",
    "            return pickle.load(f) \n",
    "        \n",
    "    except FileNotFoundError: \n",
    "        print(\"File not found!\") \n"
   ]
  },
  {
   "cell_type": "code",
   "execution_count": null,
   "metadata": {
    "colab": {
     "base_uri": "https://localhost:8080/"
    },
    "executionInfo": {
     "elapsed": 200,
     "status": "ok",
     "timestamp": 1623850190360,
     "user": {
      "displayName": "Ignacio Soteras",
      "photoUrl": "",
      "userId": "02050793736257155229"
     },
     "user_tz": -120
    },
    "id": "VqDGBIPVvBXG",
    "outputId": "cc0b5b59-d4f9-40ee-8c0b-d733de6570f0"
   },
   "outputs": [],
   "source": [
    "scaler2 = load(\"Model/scaler.pickle\")"
   ]
  },
  {
   "cell_type": "code",
   "execution_count": null,
   "metadata": {},
   "outputs": [],
   "source": [
    "# user input a song\n",
    "## get the audio features for the song from spotify \n",
    "## scale the audio features with scaler that you build the Kmean on \n",
    "## predict for the user song(audio features) in which cluster belong to (e.g belongs to 7 )\n",
    "## got the 100,000000 database and recommed a song that belong to the same cluster of the user input song "
   ]
  },
  {
   "cell_type": "markdown",
   "metadata": {
    "id": "O1PJsX3yxY6r"
   },
   "source": [
    "# Time to work!"
   ]
  },
  {
   "cell_type": "markdown",
   "metadata": {
    "id": "ieomYz1Bxa0n"
   },
   "source": [
    "Time to clusterize the songs in your database and see how they look like. "
   ]
  },
  {
   "cell_type": "code",
   "execution_count": null,
   "metadata": {},
   "outputs": [],
   "source": []
  }
 ],
 "metadata": {
  "colab": {
   "name": "code_along_KMeans_structure.ipynb",
   "provenance": []
  },
  "kernelspec": {
   "display_name": "Python 3 (ipykernel)",
   "language": "python",
   "name": "python3"
  },
  "language_info": {
   "codemirror_mode": {
    "name": "ipython",
    "version": 3
   },
   "file_extension": ".py",
   "mimetype": "text/x-python",
   "name": "python",
   "nbconvert_exporter": "python",
   "pygments_lexer": "ipython3",
   "version": "3.9.13"
  },
  "toc": {
   "base_numbering": 1,
   "nav_menu": {},
   "number_sections": true,
   "sideBar": true,
   "skip_h1_title": false,
   "title_cell": "Table of Contents",
   "title_sidebar": "Contents",
   "toc_cell": false,
   "toc_position": {},
   "toc_section_display": true,
   "toc_window_display": false
  }
 },
 "nbformat": 4,
 "nbformat_minor": 1
}
